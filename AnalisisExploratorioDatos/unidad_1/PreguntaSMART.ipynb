{
 "cells": [
  {
   "cell_type": "markdown",
   "metadata": {},
   "source": [
    "Pregunta SMART"
   ]
  },
  {
   "cell_type": "markdown",
   "metadata": {},
   "source": [
    "Utilizando los datos históricos de los últimos 5 años y considerando los medicamentos que se venden y se usan como muestra médica identificados por un concepto de facturación específico, un código y un flag de muestra médica, ¿cuántas muestras médicas de un medicamento se deben producir mensualmente desde enero hasta diciembre de 2024?"
   ]
  }
 ],
 "metadata": {
  "language_info": {
   "name": "python"
  }
 },
 "nbformat": 4,
 "nbformat_minor": 2
}
