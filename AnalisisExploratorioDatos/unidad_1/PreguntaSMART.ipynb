{
 "cells": [
  {
   "cell_type": "markdown",
   "metadata": {},
   "source": [
    "Descripción del problema:\n",
    "Una organización farmacéutica necesita planificar la producción mensual de muestras médicas para el año 2024. Actualmente, se producen muestras médicas específicas y medicamentos fabricados para la venta que luego se utilizan como muestras, identificados por un concepto de facturación específico, un código y un flag.\n",
    "\n",
    "Solución con ciencia de datos:\n",
    "Utilizando ciencia de datos, podemos analizar los datos históricos de producción y uso de muestras médicas de los últimos 5 años (2019-2023). Con técnicas de modelado predictivo, podemos estimar la cantidad mensual de unidades que se deben producir en 2024, manteniendo las proporciones y patrones observados en los años anteriores.\n",
    "\n",
    "Pregunta SMART:\n",
    "\"Basándonos en los datos históricos de los últimos 5 años (2019-2023) y considerando tanto los medicamentos producidos como muestras médicas como aquellos que no y utilizados como tales (identificados por un concepto de facturación específico, un código y un flag de muestra médica), ¿cuántas unidades de cada tipo de muestra médica se deben producir mensualmente de enero a diciembre de 2024 para mantener los patrones de producción observados en los años anteriores?\""
   ]
  }
 ],
 "metadata": {
  "language_info": {
   "name": "python"
  }
 },
 "nbformat": 4,
 "nbformat_minor": 2
}
