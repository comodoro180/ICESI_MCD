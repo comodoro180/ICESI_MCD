{
 "cells": [
  {
   "cell_type": "markdown",
   "metadata": {},
   "source": [
    "Pregunta SMART"
   ]
  },
  {
   "cell_type": "markdown",
   "metadata": {},
   "source": [
    "Basándonos exclusivamente en los datos históricos de los últimos 5 años (2019-2023), considerando tanto los medicamentos producidos específicamente como muestras médicas como aquellos vendidos y utilizados como muestras (identificados por un concepto de facturación específico, un código y un flag de muestra médica), ¿cuántas unidades de cada tipo de muestra médica se deben producir mensualmente de enero a diciembre de 2024, manteniendo la proporción y los patrones de producción observados en los años anteriores?"
   ]
  }
 ],
 "metadata": {
  "language_info": {
   "name": "python"
  }
 },
 "nbformat": 4,
 "nbformat_minor": 2
}
