{
 "cells": [
  {
   "cell_type": "markdown",
   "metadata": {},
   "source": [
    "# Planificación de la Producción de Muestras Médicas para 2024\n",
    "\n",
    "## Descripción del problema\n",
    "\n",
    "Una organización farmacéutica necesita planificar la producción mensual de muestras médicas para 2024. Actualmente, se producen muestras médicas específicas pero no alcanzan para cubrir la demanda y utilizan medicamentos fabricados para la venta. Los medicamentos que no son muestra médica y son usados como tal se identifican mediante un código y concepto de facturación específico; los que son muestras médicas se identifican con un código y un flag.\n",
    "\n",
    "## Solución con ciencia de datos\n",
    "\n",
    "Utilizando ciencia de datos, podemos analizar los datos históricos de los conceptos facturados que incluyen muestras médicas y no, de los últimos 5 años (2019-2023). Con técnicas de modelado predictivo, podemos estimar la cantidad mensual de unidades a producir en 2024 garantizando el inventario necesario de muestras médicas.\n",
    "\n",
    "## Pregunta SMART\n",
    "\n",
    "Basándonos en los datos históricos de los últimos 5 años (2019-2023) y considerando tanto los medicamentos producidos como muestras médicas como aquellos que no y son utilizados como tal, ¿cuántas unidades de muestras médicas se deben producir mensualmente de enero a diciembre de 2024 para garantizar que no sean usados los medicamentos destinados para la venta?"
   ]
  }
 ],
 "metadata": {
  "language_info": {
   "name": "python"
  }
 },
 "nbformat": 4,
 "nbformat_minor": 2
}
