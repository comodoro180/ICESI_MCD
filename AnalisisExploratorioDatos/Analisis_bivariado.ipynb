{
  "cells": [
    {
      "cell_type": "markdown",
      "metadata": {
        "id": "view-in-github",
        "colab_type": "text"
      },
      "source": [
        "<a href=\"https://colab.research.google.com/github/comodoro180/ICESI_MCD/blob/main/AnalisisExploratorioDatos/Analisis_bivariado.ipynb\" target=\"_parent\"><img src=\"https://colab.research.google.com/assets/colab-badge.svg\" alt=\"Open In Colab\"/></a>"
      ]
    },
    {
      "cell_type": "markdown",
      "metadata": {
        "id": "hWBi2aOY9G_U"
      },
      "source": [
        "# Planificación de la Producción de Muestras Médicas para 2024\n",
        "\n",
        "## Descripción del problema\n",
        "\n",
        "Una organización farmacéutica necesita planificar la producción mensual de muestras médicas para 2024. Actualmente, se producen muestras médicas específicas pero no alcanzan para cubrir la demanda y utilizan medicamentos fabricados para la venta. Los medicamentos que no son muestra médica y son usados como tal se identifican mediante un código y concepto de facturación específico; los que son muestras médicas se identifican con un código y un flag.\n",
        "\n",
        "## Solución con ciencia de datos\n",
        "\n",
        "Utilizando ciencia de datos, podemos analizar los datos históricos de los conceptos facturados que incluyen muestras médicas y no, de los últimos 5 años (2019-2023). Con técnicas de modelado predictivo, podemos estimar la cantidad mensual de unidades a producir en 2024 garantizando el inventario necesario de muestras médicas.\n",
        "\n",
        "## Pregunta SMART\n",
        "\n",
        "Basándonos en los datos históricos de los últimos 5 años (2019-2023) y considerando tanto los medicamentos producidos como muestras médicas como aquellos que no y son utilizados como tal, ¿cuántas unidades de muestras médicas se deben producir mensualmente de enero a diciembre de 2024 para garantizar que no sean usados los medicamentos destinados para la venta?"
      ]
    },
    {
      "cell_type": "code",
      "execution_count": null,
      "metadata": {
        "id": "gecVl7IU9G_b"
      },
      "outputs": [],
      "source": [
        "import pandas as pd\n",
        "import numpy as np\n",
        "import seaborn as sns\n",
        "import matplotlib.pyplot as plt"
      ]
    },
    {
      "cell_type": "code",
      "execution_count": null,
      "metadata": {
        "id": "ypiwFBCw9G_d",
        "outputId": "7755b640-41ec-4bec-e770-a9eb975026e7"
      },
      "outputs": [
        {
          "data": {
            "text/html": [
              "<div>\n",
              "<style scoped>\n",
              "    .dataframe tbody tr th:only-of-type {\n",
              "        vertical-align: middle;\n",
              "    }\n",
              "\n",
              "    .dataframe tbody tr th {\n",
              "        vertical-align: top;\n",
              "    }\n",
              "\n",
              "    .dataframe thead th {\n",
              "        text-align: right;\n",
              "    }\n",
              "</style>\n",
              "<table border=\"1\" class=\"dataframe\">\n",
              "  <thead>\n",
              "    <tr style=\"text-align: right;\">\n",
              "      <th></th>\n",
              "      <th>ORIGEN</th>\n",
              "      <th>PERIODO</th>\n",
              "      <th>PAIS_ORIGEN</th>\n",
              "      <th>PAIS_DESTINO</th>\n",
              "      <th>NEGOCIO</th>\n",
              "      <th>LINEA</th>\n",
              "      <th>MARCA</th>\n",
              "      <th>ARTICULO</th>\n",
              "      <th>INVENTARIO</th>\n",
              "      <th>FACTOR_CIAL</th>\n",
              "      <th>UE</th>\n",
              "      <th>UC</th>\n",
              "    </tr>\n",
              "  </thead>\n",
              "  <tbody>\n",
              "    <tr>\n",
              "      <th>0</th>\n",
              "      <td>odscol</td>\n",
              "      <td>201903</td>\n",
              "      <td>90</td>\n",
              "      <td>90</td>\n",
              "      <td>11</td>\n",
              "      <td>112</td>\n",
              "      <td>BLP</td>\n",
              "      <td>802521</td>\n",
              "      <td>SALIDAS</td>\n",
              "      <td>18</td>\n",
              "      <td>432</td>\n",
              "      <td>24</td>\n",
              "    </tr>\n",
              "    <tr>\n",
              "      <th>1</th>\n",
              "      <td>odscol</td>\n",
              "      <td>201903</td>\n",
              "      <td>90</td>\n",
              "      <td>90</td>\n",
              "      <td>7</td>\n",
              "      <td>71</td>\n",
              "      <td>07I</td>\n",
              "      <td>708874</td>\n",
              "      <td>SALIDAS</td>\n",
              "      <td>300</td>\n",
              "      <td>1800</td>\n",
              "      <td>6</td>\n",
              "    </tr>\n",
              "    <tr>\n",
              "      <th>2</th>\n",
              "      <td>odscol</td>\n",
              "      <td>201903</td>\n",
              "      <td>90</td>\n",
              "      <td>90</td>\n",
              "      <td>100</td>\n",
              "      <td>827</td>\n",
              "      <td>BLC</td>\n",
              "      <td>1109737</td>\n",
              "      <td>SALIDAS</td>\n",
              "      <td>0</td>\n",
              "      <td>0</td>\n",
              "      <td>3</td>\n",
              "    </tr>\n",
              "    <tr>\n",
              "      <th>3</th>\n",
              "      <td>odscol</td>\n",
              "      <td>201903</td>\n",
              "      <td>90</td>\n",
              "      <td>90</td>\n",
              "      <td>7</td>\n",
              "      <td>78</td>\n",
              "      <td>MT4</td>\n",
              "      <td>74221</td>\n",
              "      <td>SALIDAS</td>\n",
              "      <td>40</td>\n",
              "      <td>16520</td>\n",
              "      <td>413</td>\n",
              "    </tr>\n",
              "    <tr>\n",
              "      <th>4</th>\n",
              "      <td>odscol</td>\n",
              "      <td>201903</td>\n",
              "      <td>90</td>\n",
              "      <td>90</td>\n",
              "      <td>7</td>\n",
              "      <td>71</td>\n",
              "      <td>EZA</td>\n",
              "      <td>710321</td>\n",
              "      <td>SALIDAS MM</td>\n",
              "      <td>10</td>\n",
              "      <td>7550</td>\n",
              "      <td>755</td>\n",
              "    </tr>\n",
              "  </tbody>\n",
              "</table>\n",
              "</div>"
            ],
            "text/plain": [
              "   ORIGEN  PERIODO  PAIS_ORIGEN  PAIS_DESTINO  NEGOCIO  LINEA MARCA  ARTICULO  \\\n",
              "0  odscol   201903           90            90       11    112  BLP     802521   \n",
              "1  odscol   201903           90            90        7     71  07I     708874   \n",
              "2  odscol   201903           90            90      100    827  BLC    1109737   \n",
              "3  odscol   201903           90            90        7     78  MT4      74221   \n",
              "4  odscol   201903           90            90        7     71  EZA     710321   \n",
              "\n",
              "   INVENTARIO FACTOR_CIAL     UE   UC  \n",
              "0     SALIDAS          18    432   24  \n",
              "1     SALIDAS         300   1800    6  \n",
              "2     SALIDAS           0      0    3  \n",
              "3     SALIDAS          40  16520  413  \n",
              "4  SALIDAS MM          10   7550  755  "
            ]
          },
          "execution_count": 2,
          "metadata": {},
          "output_type": "execute_result"
        }
      ],
      "source": [
        "df = pd.read_csv('input/reales_mm.csv')\n",
        "\n",
        "df.head()"
      ]
    },
    {
      "cell_type": "code",
      "execution_count": null,
      "metadata": {
        "id": "K_wYd-nD9G_e",
        "outputId": "8c70ea2d-a9cd-4803-ff2a-16b9f42691f5"
      },
      "outputs": [
        {
          "data": {
            "text/plain": [
              "(155816, 12)"
            ]
          },
          "execution_count": 3,
          "metadata": {},
          "output_type": "execute_result"
        }
      ],
      "source": [
        "df.shape"
      ]
    },
    {
      "cell_type": "code",
      "execution_count": null,
      "metadata": {
        "id": "ykthIiSl9G_f",
        "outputId": "8e0cee33-cfee-405e-ee09-da7d1564626e"
      },
      "outputs": [
        {
          "name": "stdout",
          "output_type": "stream",
          "text": [
            "<class 'pandas.core.frame.DataFrame'>\n",
            "RangeIndex: 155816 entries, 0 to 155815\n",
            "Data columns (total 12 columns):\n",
            " #   Column        Non-Null Count   Dtype \n",
            "---  ------        --------------   ----- \n",
            " 0   ORIGEN        155816 non-null  object\n",
            " 1   PERIODO       155816 non-null  int64 \n",
            " 2   PAIS_ORIGEN   155816 non-null  int64 \n",
            " 3   PAIS_DESTINO  155816 non-null  int64 \n",
            " 4   NEGOCIO       155816 non-null  int64 \n",
            " 5   LINEA         155816 non-null  int64 \n",
            " 6   MARCA         155816 non-null  object\n",
            " 7   ARTICULO      155816 non-null  int64 \n",
            " 8   INVENTARIO    155816 non-null  object\n",
            " 9   FACTOR_CIAL   155816 non-null  object\n",
            " 10  UE            155816 non-null  object\n",
            " 11  UC            155816 non-null  int64 \n",
            "dtypes: int64(7), object(5)\n",
            "memory usage: 14.3+ MB\n"
          ]
        }
      ],
      "source": [
        "df.info()"
      ]
    },
    {
      "cell_type": "code",
      "execution_count": null,
      "metadata": {
        "id": "Md27EJmh9G_g"
      },
      "outputs": [],
      "source": [
        "#Debido a que la columna de unidades estadisticas aparece como de tipo object, se cambia a int64\n",
        "\n",
        "df['UE'] = df['UE'].str.replace(',','.').astype('float')"
      ]
    },
    {
      "cell_type": "code",
      "execution_count": null,
      "metadata": {
        "id": "Z1fGk9dN9G_g",
        "outputId": "748f9718-eb44-4845-f6a7-a3c25e0043c6"
      },
      "outputs": [
        {
          "name": "stdout",
          "output_type": "stream",
          "text": [
            "<class 'pandas.core.frame.DataFrame'>\n",
            "RangeIndex: 155816 entries, 0 to 155815\n",
            "Data columns (total 12 columns):\n",
            " #   Column        Non-Null Count   Dtype  \n",
            "---  ------        --------------   -----  \n",
            " 0   ORIGEN        155816 non-null  object \n",
            " 1   PERIODO       155816 non-null  int64  \n",
            " 2   PAIS_ORIGEN   155816 non-null  int64  \n",
            " 3   PAIS_DESTINO  155816 non-null  int64  \n",
            " 4   NEGOCIO       155816 non-null  int64  \n",
            " 5   LINEA         155816 non-null  int64  \n",
            " 6   MARCA         155816 non-null  object \n",
            " 7   ARTICULO      155816 non-null  int64  \n",
            " 8   INVENTARIO    155816 non-null  object \n",
            " 9   FACTOR_CIAL   155816 non-null  object \n",
            " 10  UE            155816 non-null  float64\n",
            " 11  UC            155816 non-null  int64  \n",
            "dtypes: float64(1), int64(7), object(4)\n",
            "memory usage: 14.3+ MB\n"
          ]
        }
      ],
      "source": [
        "df.info()"
      ]
    },
    {
      "cell_type": "code",
      "execution_count": null,
      "metadata": {
        "id": "69X-X9Td9G_h",
        "outputId": "500a47a3-de6e-48cd-a6df-6f296f2d8cd1"
      },
      "outputs": [
        {
          "data": {
            "text/plain": [
              "count    155816.000000\n",
              "mean        493.593533\n",
              "std        3221.675648\n",
              "min     -112622.000000\n",
              "25%           3.000000\n",
              "50%          31.000000\n",
              "75%         254.000000\n",
              "max      796295.000000\n",
              "Name: UC, dtype: float64"
            ]
          },
          "execution_count": 7,
          "metadata": {},
          "output_type": "execute_result"
        }
      ],
      "source": [
        "df.describe()\n",
        "df['UC'].describe()"
      ]
    },
    {
      "cell_type": "code",
      "execution_count": null,
      "metadata": {
        "id": "tsPjeOSF9G_h",
        "outputId": "f94324ff-d158-4bac-e3ac-d3eb39a90706"
      },
      "outputs": [
        {
          "data": {
            "text/plain": [
              "ORIGEN          0\n",
              "PERIODO         0\n",
              "PAIS_ORIGEN     0\n",
              "PAIS_DESTINO    0\n",
              "NEGOCIO         0\n",
              "LINEA           0\n",
              "MARCA           0\n",
              "ARTICULO        0\n",
              "INVENTARIO      0\n",
              "FACTOR_CIAL     0\n",
              "UE              0\n",
              "UC              0\n",
              "dtype: int64"
            ]
          },
          "execution_count": 8,
          "metadata": {},
          "output_type": "execute_result"
        }
      ],
      "source": [
        "df.isna().sum()"
      ]
    },
    {
      "cell_type": "code",
      "execution_count": null,
      "metadata": {
        "id": "oou4mv_O9G_i",
        "outputId": "f43c32a5-b9da-49e7-c224-b9c7288a7390"
      },
      "outputs": [
        {
          "data": {
            "image/png": "[encoded data removed]",
            "text/plain": [
              "<Figure size 1000x600 with 1 Axes>"
            ]
          },
          "metadata": {},
          "output_type": "display_data"
        }
      ],
      "source": [
        "plt.figure(figsize=(10, 6))\n",
        "sns.histplot(df['UC'], bins=50, kde=False, color='blue')\n",
        "plt.title('Histograma de UC')\n",
        "plt.xlabel('UC')\n",
        "plt.ylabel('Frecuencia')\n",
        "plt.grid(True)\n",
        "plt.show()"
      ]
    },
    {
      "cell_type": "code",
      "execution_count": null,
      "metadata": {
        "id": "nhvAagdL9G_i",
        "outputId": "bd045150-236f-4ac0-8b91-18e8013bc110"
      },
      "outputs": [
        {
          "data": {
            "image/png": "[encoded data removed]",
            "text/plain": [
              "<Figure size 1000x600 with 1 Axes>"
            ]
          },
          "metadata": {},
          "output_type": "display_data"
        }
      ],
      "source": [
        "plt.figure(figsize=(10, 6))\n",
        "sns.boxplot(x=df['UC'])\n",
        "plt.title('Box-plot de UC')\n",
        "plt.xlabel('UC')\n",
        "plt.grid(True)\n",
        "plt.show()"
      ]
    },
    {
      "cell_type": "code",
      "execution_count": null,
      "metadata": {
        "id": "K9RIhLrJ9G_j",
        "outputId": "598c88dc-81e3-4b27-a504-e67cec57f492"
      },
      "outputs": [
        {
          "data": {
            "text/plain": [
              "count    155816.000000\n",
              "mean        493.593533\n",
              "std        3221.675648\n",
              "min     -112622.000000\n",
              "25%           3.000000\n",
              "50%          31.000000\n",
              "75%         254.000000\n",
              "max      796295.000000\n",
              "Name: UC, dtype: float64"
            ]
          },
          "execution_count": 11,
          "metadata": {},
          "output_type": "execute_result"
        }
      ],
      "source": [
        "df['UC'].describe()"
      ]
    },
    {
      "cell_type": "markdown",
      "metadata": {
        "id": "gMz67Rgr9G_j"
      },
      "source": [
        "De acuerdo a los datos de la columna UC (Unidades comerciales), se puede evidenciar que el promedio 493.59 es mucho mayor que la mediana 31 y puede tener un sesgo. Una desviación estándar tan alta de 3221 indica que la dsitribución de los datos es muy variable."
      ]
    },
    {
      "cell_type": "code",
      "execution_count": null,
      "metadata": {
        "id": "-AgLvsE69G_j",
        "outputId": "d1285c85-88e8-4123-f153-2c00b947755f"
      },
      "outputs": [
        {
          "data": {
            "image/png": "[encoded data removed]",
            "text/plain": [
              "<Figure size 1000x600 with 1 Axes>"
            ]
          },
          "metadata": {},
          "output_type": "display_data"
        }
      ],
      "source": [
        "# Crear el diagrama de cajas y bigotes usando matplotlib con colores personalizados\n",
        "plt.figure(figsize=(10, 6))\n",
        "box = plt.boxplot(df['UC'], vert=False, patch_artist=True)  # Habilitar el coloreado de las cajas\n",
        "\n",
        "# Personalizar los colores\n",
        "colors = ['skyblue']\n",
        "for patch, color in zip(box['boxes'], colors):\n",
        "    patch.set_facecolor(color)\n",
        "\n",
        "plt.title('Diagrama de Cajas y Bigotes de UC con Colores')\n",
        "plt.xlabel('UC')\n",
        "plt.grid(True)\n",
        "plt.show()"
      ]
    },
    {
      "cell_type": "code",
      "execution_count": null,
      "metadata": {
        "id": "3uSMMo7_9G_k",
        "outputId": "3d8b6745-5c86-449c-ce21-abfb467d992c"
      },
      "outputs": [
        {
          "data": {
            "text/html": [
              "<div>\n",
              "<style scoped>\n",
              "    .dataframe tbody tr th:only-of-type {\n",
              "        vertical-align: middle;\n",
              "    }\n",
              "\n",
              "    .dataframe tbody tr th {\n",
              "        vertical-align: top;\n",
              "    }\n",
              "\n",
              "    .dataframe thead th {\n",
              "        text-align: right;\n",
              "    }\n",
              "</style>\n",
              "<table border=\"1\" class=\"dataframe\">\n",
              "  <thead>\n",
              "    <tr style=\"text-align: right;\">\n",
              "      <th></th>\n",
              "      <th>ORIGEN</th>\n",
              "      <th>PERIODO</th>\n",
              "      <th>PAIS_ORIGEN</th>\n",
              "      <th>PAIS_DESTINO</th>\n",
              "      <th>NEGOCIO</th>\n",
              "      <th>LINEA</th>\n",
              "      <th>MARCA</th>\n",
              "      <th>ARTICULO</th>\n",
              "      <th>INVENTARIO</th>\n",
              "      <th>FACTOR_CIAL</th>\n",
              "      <th>UE</th>\n",
              "      <th>UC</th>\n",
              "    </tr>\n",
              "  </thead>\n",
              "  <tbody>\n",
              "    <tr>\n",
              "      <th>35997</th>\n",
              "      <td>odscol</td>\n",
              "      <td>202407</td>\n",
              "      <td>90</td>\n",
              "      <td>90</td>\n",
              "      <td>100</td>\n",
              "      <td>831</td>\n",
              "      <td>BLC</td>\n",
              "      <td>1180806</td>\n",
              "      <td>SALIDAS</td>\n",
              "      <td>0</td>\n",
              "      <td>0.00</td>\n",
              "      <td>796295</td>\n",
              "    </tr>\n",
              "    <tr>\n",
              "      <th>131838</th>\n",
              "      <td>odssvc</td>\n",
              "      <td>201806</td>\n",
              "      <td>28</td>\n",
              "      <td>28</td>\n",
              "      <td>19</td>\n",
              "      <td>196</td>\n",
              "      <td>SDM</td>\n",
              "      <td>2062413</td>\n",
              "      <td>SALIDAS MM</td>\n",
              "      <td>2</td>\n",
              "      <td>360000.00</td>\n",
              "      <td>180000</td>\n",
              "    </tr>\n",
              "    <tr>\n",
              "      <th>145410</th>\n",
              "      <td>odssvc</td>\n",
              "      <td>201908</td>\n",
              "      <td>28</td>\n",
              "      <td>28</td>\n",
              "      <td>19</td>\n",
              "      <td>196</td>\n",
              "      <td>SDM</td>\n",
              "      <td>2062413</td>\n",
              "      <td>SALIDAS MM</td>\n",
              "      <td>2</td>\n",
              "      <td>308000.00</td>\n",
              "      <td>154000</td>\n",
              "    </tr>\n",
              "    <tr>\n",
              "      <th>14776</th>\n",
              "      <td>odscol</td>\n",
              "      <td>202109</td>\n",
              "      <td>90</td>\n",
              "      <td>90</td>\n",
              "      <td>100</td>\n",
              "      <td>831</td>\n",
              "      <td>BLC</td>\n",
              "      <td>1153840</td>\n",
              "      <td>SALIDAS</td>\n",
              "      <td>0</td>\n",
              "      <td>0.00</td>\n",
              "      <td>117857</td>\n",
              "    </tr>\n",
              "    <tr>\n",
              "      <th>63724</th>\n",
              "      <td>odscol</td>\n",
              "      <td>202212</td>\n",
              "      <td>90</td>\n",
              "      <td>90</td>\n",
              "      <td>100</td>\n",
              "      <td>823</td>\n",
              "      <td>BLC</td>\n",
              "      <td>1165250</td>\n",
              "      <td>SALIDAS</td>\n",
              "      <td>0</td>\n",
              "      <td>0.00</td>\n",
              "      <td>112622</td>\n",
              "    </tr>\n",
              "    <tr>\n",
              "      <th>...</th>\n",
              "      <td>...</td>\n",
              "      <td>...</td>\n",
              "      <td>...</td>\n",
              "      <td>...</td>\n",
              "      <td>...</td>\n",
              "      <td>...</td>\n",
              "      <td>...</td>\n",
              "      <td>...</td>\n",
              "      <td>...</td>\n",
              "      <td>...</td>\n",
              "      <td>...</td>\n",
              "      <td>...</td>\n",
              "    </tr>\n",
              "    <tr>\n",
              "      <th>110025</th>\n",
              "      <td>odscol</td>\n",
              "      <td>202209</td>\n",
              "      <td>90</td>\n",
              "      <td>90</td>\n",
              "      <td>10</td>\n",
              "      <td>103</td>\n",
              "      <td>C4N</td>\n",
              "      <td>103723</td>\n",
              "      <td>SALIDAS MM</td>\n",
              "      <td>0,02</td>\n",
              "      <td>-709.14</td>\n",
              "      <td>-35457</td>\n",
              "    </tr>\n",
              "    <tr>\n",
              "      <th>1031</th>\n",
              "      <td>odscol</td>\n",
              "      <td>201811</td>\n",
              "      <td>90</td>\n",
              "      <td>90</td>\n",
              "      <td>100</td>\n",
              "      <td>831</td>\n",
              "      <td>BLC</td>\n",
              "      <td>1121384</td>\n",
              "      <td>SALIDAS</td>\n",
              "      <td>0</td>\n",
              "      <td>0.00</td>\n",
              "      <td>-37300</td>\n",
              "    </tr>\n",
              "    <tr>\n",
              "      <th>41131</th>\n",
              "      <td>odscol</td>\n",
              "      <td>201912</td>\n",
              "      <td>90</td>\n",
              "      <td>90</td>\n",
              "      <td>100</td>\n",
              "      <td>819</td>\n",
              "      <td>BLC</td>\n",
              "      <td>1138492</td>\n",
              "      <td>SALIDAS</td>\n",
              "      <td>0</td>\n",
              "      <td>0.00</td>\n",
              "      <td>-46000</td>\n",
              "    </tr>\n",
              "    <tr>\n",
              "      <th>68551</th>\n",
              "      <td>odscol</td>\n",
              "      <td>201805</td>\n",
              "      <td>90</td>\n",
              "      <td>90</td>\n",
              "      <td>100</td>\n",
              "      <td>827</td>\n",
              "      <td>BLC</td>\n",
              "      <td>1113402</td>\n",
              "      <td>SALIDAS</td>\n",
              "      <td>0</td>\n",
              "      <td>0.00</td>\n",
              "      <td>-49996</td>\n",
              "    </tr>\n",
              "    <tr>\n",
              "      <th>47906</th>\n",
              "      <td>odscol</td>\n",
              "      <td>202211</td>\n",
              "      <td>90</td>\n",
              "      <td>90</td>\n",
              "      <td>100</td>\n",
              "      <td>823</td>\n",
              "      <td>BLC</td>\n",
              "      <td>1165250</td>\n",
              "      <td>SALIDAS</td>\n",
              "      <td>0</td>\n",
              "      <td>0.00</td>\n",
              "      <td>-112622</td>\n",
              "    </tr>\n",
              "  </tbody>\n",
              "</table>\n",
              "<p>155816 rows × 12 columns</p>\n",
              "</div>"
            ],
            "text/plain": [
              "        ORIGEN  PERIODO  PAIS_ORIGEN  PAIS_DESTINO  NEGOCIO  LINEA MARCA  \\\n",
              "35997   odscol   202407           90            90      100    831  BLC    \n",
              "131838  odssvc   201806           28            28       19    196  SDM    \n",
              "145410  odssvc   201908           28            28       19    196  SDM    \n",
              "14776   odscol   202109           90            90      100    831  BLC    \n",
              "63724   odscol   202212           90            90      100    823  BLC    \n",
              "...        ...      ...          ...           ...      ...    ...   ...   \n",
              "110025  odscol   202209           90            90       10    103  C4N    \n",
              "1031    odscol   201811           90            90      100    831  BLC    \n",
              "41131   odscol   201912           90            90      100    819  BLC    \n",
              "68551   odscol   201805           90            90      100    827  BLC    \n",
              "47906   odscol   202211           90            90      100    823  BLC    \n",
              "\n",
              "        ARTICULO  INVENTARIO FACTOR_CIAL         UE      UC  \n",
              "35997    1180806     SALIDAS           0       0.00  796295  \n",
              "131838   2062413  SALIDAS MM           2  360000.00  180000  \n",
              "145410   2062413  SALIDAS MM           2  308000.00  154000  \n",
              "14776    1153840     SALIDAS           0       0.00  117857  \n",
              "63724    1165250     SALIDAS           0       0.00  112622  \n",
              "...          ...         ...         ...        ...     ...  \n",
              "110025    103723  SALIDAS MM        0,02    -709.14  -35457  \n",
              "1031     1121384     SALIDAS           0       0.00  -37300  \n",
              "41131    1138492     SALIDAS           0       0.00  -46000  \n",
              "68551    1113402     SALIDAS           0       0.00  -49996  \n",
              "47906    1165250     SALIDAS           0       0.00 -112622  \n",
              "\n",
              "[155816 rows x 12 columns]"
            ]
          },
          "execution_count": 13,
          "metadata": {},
          "output_type": "execute_result"
        }
      ],
      "source": [
        "df.sort_values(by='UC' , ascending=False)"
      ]
    },
    {
      "cell_type": "code",
      "execution_count": null,
      "metadata": {
        "id": "hsmT0ZXJ9G_k",
        "outputId": "4c177c7d-cb91-43bb-e4d5-b4ea37475db8"
      },
      "outputs": [
        {
          "data": {
            "text/html": [
              "<div>\n",
              "<style scoped>\n",
              "    .dataframe tbody tr th:only-of-type {\n",
              "        vertical-align: middle;\n",
              "    }\n",
              "\n",
              "    .dataframe tbody tr th {\n",
              "        vertical-align: top;\n",
              "    }\n",
              "\n",
              "    .dataframe thead th {\n",
              "        text-align: right;\n",
              "    }\n",
              "</style>\n",
              "<table border=\"1\" class=\"dataframe\">\n",
              "  <thead>\n",
              "    <tr style=\"text-align: right;\">\n",
              "      <th></th>\n",
              "      <th>PERIODO</th>\n",
              "      <th>NEGOCIO</th>\n",
              "      <th>ARTICULO</th>\n",
              "      <th>UC</th>\n",
              "    </tr>\n",
              "  </thead>\n",
              "  <tbody>\n",
              "    <tr>\n",
              "      <th>0</th>\n",
              "      <td>201801</td>\n",
              "      <td>1</td>\n",
              "      <td>10001</td>\n",
              "      <td>507</td>\n",
              "    </tr>\n",
              "    <tr>\n",
              "      <th>1</th>\n",
              "      <td>201801</td>\n",
              "      <td>1</td>\n",
              "      <td>10018</td>\n",
              "      <td>-5</td>\n",
              "    </tr>\n",
              "    <tr>\n",
              "      <th>2</th>\n",
              "      <td>201801</td>\n",
              "      <td>1</td>\n",
              "      <td>10025</td>\n",
              "      <td>-13</td>\n",
              "    </tr>\n",
              "    <tr>\n",
              "      <th>3</th>\n",
              "      <td>201801</td>\n",
              "      <td>1</td>\n",
              "      <td>10131</td>\n",
              "      <td>0</td>\n",
              "    </tr>\n",
              "    <tr>\n",
              "      <th>4</th>\n",
              "      <td>201801</td>\n",
              "      <td>1</td>\n",
              "      <td>10209</td>\n",
              "      <td>5</td>\n",
              "    </tr>\n",
              "    <tr>\n",
              "      <th>...</th>\n",
              "      <td>...</td>\n",
              "      <td>...</td>\n",
              "      <td>...</td>\n",
              "      <td>...</td>\n",
              "    </tr>\n",
              "    <tr>\n",
              "      <th>138479</th>\n",
              "      <td>202407</td>\n",
              "      <td>100</td>\n",
              "      <td>1181632</td>\n",
              "      <td>0</td>\n",
              "    </tr>\n",
              "    <tr>\n",
              "      <th>138480</th>\n",
              "      <td>202407</td>\n",
              "      <td>100</td>\n",
              "      <td>1181649</td>\n",
              "      <td>-1</td>\n",
              "    </tr>\n",
              "    <tr>\n",
              "      <th>138481</th>\n",
              "      <td>202407</td>\n",
              "      <td>100</td>\n",
              "      <td>1181656</td>\n",
              "      <td>0</td>\n",
              "    </tr>\n",
              "    <tr>\n",
              "      <th>138482</th>\n",
              "      <td>202407</td>\n",
              "      <td>100</td>\n",
              "      <td>1181717</td>\n",
              "      <td>-1500</td>\n",
              "    </tr>\n",
              "    <tr>\n",
              "      <th>138483</th>\n",
              "      <td>202407</td>\n",
              "      <td>100</td>\n",
              "      <td>1181830</td>\n",
              "      <td>-300</td>\n",
              "    </tr>\n",
              "  </tbody>\n",
              "</table>\n",
              "<p>138484 rows × 4 columns</p>\n",
              "</div>"
            ],
            "text/plain": [
              "        PERIODO  NEGOCIO  ARTICULO    UC\n",
              "0        201801        1     10001   507\n",
              "1        201801        1     10018    -5\n",
              "2        201801        1     10025   -13\n",
              "3        201801        1     10131     0\n",
              "4        201801        1     10209     5\n",
              "...         ...      ...       ...   ...\n",
              "138479   202407      100   1181632     0\n",
              "138480   202407      100   1181649    -1\n",
              "138481   202407      100   1181656     0\n",
              "138482   202407      100   1181717 -1500\n",
              "138483   202407      100   1181830  -300\n",
              "\n",
              "[138484 rows x 4 columns]"
            ]
          },
          "execution_count": 14,
          "metadata": {},
          "output_type": "execute_result"
        }
      ],
      "source": [
        "df_agr = df.groupby(['PERIODO','NEGOCIO','ARTICULO'], as_index=False)['UC'].sum()\n",
        "\n",
        "df_agr"
      ]
    },
    {
      "cell_type": "code",
      "execution_count": null,
      "metadata": {
        "id": "zwv6gqiS9G_k",
        "outputId": "901aed51-fffd-4cfb-a817-98d8393f88ef"
      },
      "outputs": [
        {
          "data": {
            "text/plain": [
              "count    138484.000000\n",
              "mean        555.369357\n",
              "std        3456.426233\n",
              "min     -112622.000000\n",
              "25%           2.000000\n",
              "50%          24.000000\n",
              "75%         230.000000\n",
              "max      796295.000000\n",
              "Name: UC, dtype: float64"
            ]
          },
          "execution_count": 15,
          "metadata": {},
          "output_type": "execute_result"
        }
      ],
      "source": [
        "df_agr['UC'].describe()"
      ]
    },
    {
      "cell_type": "code",
      "execution_count": null,
      "metadata": {
        "id": "fTP3i4fL9G_l",
        "outputId": "995c4e8a-4c0a-44f0-c670-0a616440e2ac"
      },
      "outputs": [
        {
          "data": {
            "text/html": [
              "<div>\n",
              "<style scoped>\n",
              "    .dataframe tbody tr th:only-of-type {\n",
              "        vertical-align: middle;\n",
              "    }\n",
              "\n",
              "    .dataframe tbody tr th {\n",
              "        vertical-align: top;\n",
              "    }\n",
              "\n",
              "    .dataframe thead th {\n",
              "        text-align: right;\n",
              "    }\n",
              "</style>\n",
              "<table border=\"1\" class=\"dataframe\">\n",
              "  <thead>\n",
              "    <tr style=\"text-align: right;\">\n",
              "      <th></th>\n",
              "      <th>PERIODO</th>\n",
              "      <th>NEGOCIO</th>\n",
              "      <th>ARTICULO</th>\n",
              "      <th>UC</th>\n",
              "    </tr>\n",
              "  </thead>\n",
              "  <tbody>\n",
              "    <tr>\n",
              "      <th>138457</th>\n",
              "      <td>202407</td>\n",
              "      <td>100</td>\n",
              "      <td>1180806</td>\n",
              "      <td>796295</td>\n",
              "    </tr>\n",
              "    <tr>\n",
              "      <th>10102</th>\n",
              "      <td>201806</td>\n",
              "      <td>19</td>\n",
              "      <td>2062413</td>\n",
              "      <td>180000</td>\n",
              "    </tr>\n",
              "    <tr>\n",
              "      <th>36548</th>\n",
              "      <td>201908</td>\n",
              "      <td>19</td>\n",
              "      <td>2062413</td>\n",
              "      <td>154000</td>\n",
              "    </tr>\n",
              "    <tr>\n",
              "      <th>78515</th>\n",
              "      <td>202109</td>\n",
              "      <td>100</td>\n",
              "      <td>1153840</td>\n",
              "      <td>117857</td>\n",
              "    </tr>\n",
              "    <tr>\n",
              "      <th>104928</th>\n",
              "      <td>202212</td>\n",
              "      <td>100</td>\n",
              "      <td>1165250</td>\n",
              "      <td>112622</td>\n",
              "    </tr>\n",
              "    <tr>\n",
              "      <th>...</th>\n",
              "      <td>...</td>\n",
              "      <td>...</td>\n",
              "      <td>...</td>\n",
              "      <td>...</td>\n",
              "    </tr>\n",
              "    <tr>\n",
              "      <th>97964</th>\n",
              "      <td>202209</td>\n",
              "      <td>10</td>\n",
              "      <td>103723</td>\n",
              "      <td>-35457</td>\n",
              "    </tr>\n",
              "    <tr>\n",
              "      <th>21091</th>\n",
              "      <td>201811</td>\n",
              "      <td>100</td>\n",
              "      <td>1121384</td>\n",
              "      <td>-37300</td>\n",
              "    </tr>\n",
              "    <tr>\n",
              "      <th>44989</th>\n",
              "      <td>201912</td>\n",
              "      <td>100</td>\n",
              "      <td>1138492</td>\n",
              "      <td>-46000</td>\n",
              "    </tr>\n",
              "    <tr>\n",
              "      <th>9058</th>\n",
              "      <td>201805</td>\n",
              "      <td>100</td>\n",
              "      <td>1113402</td>\n",
              "      <td>-49996</td>\n",
              "    </tr>\n",
              "    <tr>\n",
              "      <th>103134</th>\n",
              "      <td>202211</td>\n",
              "      <td>100</td>\n",
              "      <td>1165250</td>\n",
              "      <td>-112622</td>\n",
              "    </tr>\n",
              "  </tbody>\n",
              "</table>\n",
              "<p>138484 rows × 4 columns</p>\n",
              "</div>"
            ],
            "text/plain": [
              "        PERIODO  NEGOCIO  ARTICULO      UC\n",
              "138457   202407      100   1180806  796295\n",
              "10102    201806       19   2062413  180000\n",
              "36548    201908       19   2062413  154000\n",
              "78515    202109      100   1153840  117857\n",
              "104928   202212      100   1165250  112622\n",
              "...         ...      ...       ...     ...\n",
              "97964    202209       10    103723  -35457\n",
              "21091    201811      100   1121384  -37300\n",
              "44989    201912      100   1138492  -46000\n",
              "9058     201805      100   1113402  -49996\n",
              "103134   202211      100   1165250 -112622\n",
              "\n",
              "[138484 rows x 4 columns]"
            ]
          },
          "execution_count": 16,
          "metadata": {},
          "output_type": "execute_result"
        }
      ],
      "source": [
        "df_agr.sort_values(by='UC', ascending=False)"
      ]
    },
    {
      "cell_type": "code",
      "execution_count": null,
      "metadata": {
        "id": "jYILQpgd9G_l",
        "outputId": "62812fc6-d87a-4b72-bafe-4a182703ea44"
      },
      "outputs": [
        {
          "data": {
            "image/png": "[encoded data removed]",
            "text/plain": [
              "<Figure size 640x480 with 1 Axes>"
            ]
          },
          "metadata": {},
          "output_type": "display_data"
        }
      ],
      "source": [
        "# Crear el gráfico de dispersión\n",
        "plt.scatter(df['PERIODO'], df['UC'])\n",
        "\n",
        "# Añadir etiquetas y título\n",
        "plt.xlabel('Periodo')\n",
        "plt.ylabel('Unidades comerciales')\n",
        "plt.title('Gráfico de Dispersión: Periodo vs Unidades comerciales')\n",
        "\n",
        "# Mostrar el gráfico\n",
        "plt.show()"
      ]
    },
    {
      "cell_type": "code",
      "execution_count": null,
      "metadata": {
        "id": "wfgmDRO39G_m",
        "outputId": "d83dcef5-1c78-48b1-cdd5-3bdea284ed51"
      },
      "outputs": [
        {
          "data": {
            "image/png": "[encoded data removed]",
            "text/plain": [
              "<Figure size 640x480 with 1 Axes>"
            ]
          },
          "metadata": {},
          "output_type": "display_data"
        }
      ],
      "source": [
        "import seaborn as sns\n",
        "\n",
        "# Crear el gráfico de dispersión con seaborn\n",
        "sns.scatterplot(x='PERIODO', y='UC', data=df)\n",
        "\n",
        "# Añadir título\n",
        "plt.title('Gráfico de Dispersión: PERIODO vs UC')\n",
        "\n",
        "# Mostrar el gráfico\n",
        "plt.show()"
      ]
    },
    {
      "cell_type": "code",
      "execution_count": null,
      "metadata": {
        "id": "3EdPdcIg9G_m",
        "outputId": "780f9fd8-51cf-4289-a91b-fc47bb644034"
      },
      "outputs": [
        {
          "data": {
            "image/png": "[encoded data removed]",
            "text/plain": [
              "<Figure size 640x480 with 1 Axes>"
            ]
          },
          "metadata": {},
          "output_type": "display_data"
        }
      ],
      "source": [
        "# Crear un gráfico de dispersión con diferentes colores por negocio\n",
        "sns.scatterplot(x='PERIODO', y='UC', hue='NEGOCIO', data=df)\n",
        "\n",
        "# Añadir título\n",
        "plt.title('Gráfico de Dispersión: PERIODO vs UC por NEGOCIO')\n",
        "\n",
        "# Mostrar el gráfico\n",
        "plt.show()"
      ]
    },
    {
      "cell_type": "code",
      "execution_count": null,
      "metadata": {
        "id": "DVqsmVWm9G_m",
        "outputId": "ac40638d-3626-4580-e901-112564f896ac"
      },
      "outputs": [
        {
          "name": "stdout",
          "output_type": "stream",
          "text": [
            "Total de valores atípicos 22606\n",
            "Límite inferior para los valores atípicos: -373.5\n",
            "Límite superior para los valores atípicos: 630.5\n"
          ]
        }
      ],
      "source": [
        "# Calcular el rango intercuartílico (IQR) para identificar valores atípicos\n",
        "Q1 = df['UC'].quantile(0.25)\n",
        "Q3 = df['UC'].quantile(0.75)\n",
        "IQR = Q3 - Q1\n",
        "\n",
        "# Definir los límites para los valores atípicos\n",
        "lower_bound = Q1 - 1.5 * IQR\n",
        "upper_bound = Q3 + 1.5 * IQR\n",
        "\n",
        "# Filtrar los valores atípicos\n",
        "outliers = df[(df['UC'] < lower_bound) | (df['UC'] > upper_bound)]\n",
        "\n",
        "outliers_count = outliers.shape[0]\n",
        "print(f'Total de valores atípicos {outliers_count}')\n",
        "#lower_bound, upper_bound, outliers_count\n",
        "print(f'Límite inferior para los valores atípicos: {lower_bound}')\n",
        "print(f'Límite superior para los valores atípicos: {upper_bound}')"
      ]
    },
    {
      "cell_type": "markdown",
      "metadata": {
        "id": "5yTpDxQh9G_n"
      },
      "source": [
        "### Descripción de la importancia de la columna \"UC\":\n",
        "La columna \"UC\" es crítica porque representa un valor numérico relevante relacionado con las unidades de control o consumo en el sistema. Este tipo de columna es clave para análisis de inventarios, distribución de recursos, o cualquier métrica operativa donde la cantidad es un factor determinante. Un correcto entendimiento de su comportamiento y variabilidad es esencial para tomar decisiones precisas en la planificación y optimización de procesos de producción.\n",
        "\n",
        "### Análisis univariado:\n",
        "Se realizó un análisis univariado sobre la columna \"UC\", incluyendo estadísticas descriptivas y visualización de la distribución a través de un histograma. Los principales hallazgos incluyen:\n",
        "- Media: 493.59\n",
        "- Mediana: 31\n",
        "- Mínimo: -112,622\n",
        "- Máximo: 796,295\n",
        "- Desviación estándar: 3,221.68\n",
        "\n",
        "Además, se identificaron valores atípicos significativos a través de un boxplot y el cálculo del rango intercuartílico (IQR), encontrando un total de 22,606 valores atípicos fuera del rango esperado.\n",
        "\n",
        "### Conclusiones:\n",
        "La columna \"UC\" muestra una gran dispersión de valores, con una mediana significativamente más baja que la media, lo que sugiere la influencia de valores atípicos extremos. La identificación de más de 22,000 valores atípicos indica la necesidad de un análisis adicional para determinar si estos valores son errores o representan datos válidos que podrían influir en la toma de decisiones operativas. Se recomienda una revisión exhaustiva de estos valores extremos para asegurar la precisión en futuros análisis.\n",
        "\n",
        "El gráfico de dispersión por negocio muestra que el negocio 100 es el que genera la mayor cantidad de valorea atípicos, este negocio corresponde al material POP, es decir artículos que no son medicamentos y que no son producidos por la empresa. Por esta razon se decide excluir de la muestra el negocio en mención."
      ]
    },
    {
      "cell_type": "code",
      "execution_count": null,
      "metadata": {
        "id": "hPWB8Tj19G_n"
      },
      "outputs": [],
      "source": [
        "# Se excluye el negocio 100\n",
        "df = df[df['NEGOCIO'] != 100]"
      ]
    },
    {
      "cell_type": "code",
      "execution_count": null,
      "metadata": {
        "id": "wuY8XBCI9G_n",
        "outputId": "d794920c-f8d6-40bb-8462-18d4960f974f"
      },
      "outputs": [
        {
          "data": {
            "text/plain": [
              "count    119630.000000\n",
              "mean        515.994750\n",
              "std        2486.323666\n",
              "min      -35457.000000\n",
              "25%           5.000000\n",
              "50%          44.000000\n",
              "75%         308.000000\n",
              "max      180000.000000\n",
              "Name: UC, dtype: float64"
            ]
          },
          "execution_count": 25,
          "metadata": {},
          "output_type": "execute_result"
        }
      ],
      "source": [
        "df['UC'].describe()"
      ]
    },
    {
      "cell_type": "code",
      "execution_count": null,
      "metadata": {
        "id": "0Q65xLiU9G_n",
        "outputId": "f59af5ac-f41e-481c-b1ba-16dc5c159a54"
      },
      "outputs": [
        {
          "data": {
            "text/html": [
              "<div>\n",
              "<style scoped>\n",
              "    .dataframe tbody tr th:only-of-type {\n",
              "        vertical-align: middle;\n",
              "    }\n",
              "\n",
              "    .dataframe tbody tr th {\n",
              "        vertical-align: top;\n",
              "    }\n",
              "\n",
              "    .dataframe thead th {\n",
              "        text-align: right;\n",
              "    }\n",
              "</style>\n",
              "<table border=\"1\" class=\"dataframe\">\n",
              "  <thead>\n",
              "    <tr style=\"text-align: right;\">\n",
              "      <th></th>\n",
              "      <th>ORIGEN</th>\n",
              "      <th>PERIODO</th>\n",
              "      <th>PAIS_ORIGEN</th>\n",
              "      <th>PAIS_DESTINO</th>\n",
              "      <th>NEGOCIO</th>\n",
              "      <th>LINEA</th>\n",
              "      <th>MARCA</th>\n",
              "      <th>ARTICULO</th>\n",
              "      <th>INVENTARIO</th>\n",
              "      <th>FACTOR_CIAL</th>\n",
              "      <th>UE</th>\n",
              "      <th>UC</th>\n",
              "    </tr>\n",
              "  </thead>\n",
              "  <tbody>\n",
              "    <tr>\n",
              "      <th>131838</th>\n",
              "      <td>odssvc</td>\n",
              "      <td>201806</td>\n",
              "      <td>28</td>\n",
              "      <td>28</td>\n",
              "      <td>19</td>\n",
              "      <td>196</td>\n",
              "      <td>SDM</td>\n",
              "      <td>2062413</td>\n",
              "      <td>SALIDAS MM</td>\n",
              "      <td>2</td>\n",
              "      <td>360000.00</td>\n",
              "      <td>180000</td>\n",
              "    </tr>\n",
              "    <tr>\n",
              "      <th>145410</th>\n",
              "      <td>odssvc</td>\n",
              "      <td>201908</td>\n",
              "      <td>28</td>\n",
              "      <td>28</td>\n",
              "      <td>19</td>\n",
              "      <td>196</td>\n",
              "      <td>SDM</td>\n",
              "      <td>2062413</td>\n",
              "      <td>SALIDAS MM</td>\n",
              "      <td>2</td>\n",
              "      <td>308000.00</td>\n",
              "      <td>154000</td>\n",
              "    </tr>\n",
              "    <tr>\n",
              "      <th>62929</th>\n",
              "      <td>odscol</td>\n",
              "      <td>202209</td>\n",
              "      <td>90</td>\n",
              "      <td>90</td>\n",
              "      <td>11</td>\n",
              "      <td>111</td>\n",
              "      <td>GFA</td>\n",
              "      <td>803425</td>\n",
              "      <td>SALIDAS MM</td>\n",
              "      <td>4</td>\n",
              "      <td>440496.00</td>\n",
              "      <td>110124</td>\n",
              "    </tr>\n",
              "    <tr>\n",
              "      <th>47982</th>\n",
              "      <td>odscol</td>\n",
              "      <td>202210</td>\n",
              "      <td>90</td>\n",
              "      <td>90</td>\n",
              "      <td>7</td>\n",
              "      <td>78</td>\n",
              "      <td>951</td>\n",
              "      <td>76180</td>\n",
              "      <td>SALIDAS</td>\n",
              "      <td>5</td>\n",
              "      <td>529605.00</td>\n",
              "      <td>105921</td>\n",
              "    </tr>\n",
              "    <tr>\n",
              "      <th>108817</th>\n",
              "      <td>odscol</td>\n",
              "      <td>202109</td>\n",
              "      <td>90</td>\n",
              "      <td>90</td>\n",
              "      <td>11</td>\n",
              "      <td>111</td>\n",
              "      <td>GFA</td>\n",
              "      <td>803425</td>\n",
              "      <td>SALIDAS MM</td>\n",
              "      <td>4</td>\n",
              "      <td>394472.00</td>\n",
              "      <td>98618</td>\n",
              "    </tr>\n",
              "    <tr>\n",
              "      <th>...</th>\n",
              "      <td>...</td>\n",
              "      <td>...</td>\n",
              "      <td>...</td>\n",
              "      <td>...</td>\n",
              "      <td>...</td>\n",
              "      <td>...</td>\n",
              "      <td>...</td>\n",
              "      <td>...</td>\n",
              "      <td>...</td>\n",
              "      <td>...</td>\n",
              "      <td>...</td>\n",
              "      <td>...</td>\n",
              "    </tr>\n",
              "    <tr>\n",
              "      <th>18050</th>\n",
              "      <td>odscol</td>\n",
              "      <td>202304</td>\n",
              "      <td>90</td>\n",
              "      <td>90</td>\n",
              "      <td>1</td>\n",
              "      <td>11</td>\n",
              "      <td>F75</td>\n",
              "      <td>178862</td>\n",
              "      <td>SALIDAS</td>\n",
              "      <td>1</td>\n",
              "      <td>-23657.00</td>\n",
              "      <td>-23657</td>\n",
              "    </tr>\n",
              "    <tr>\n",
              "      <th>14908</th>\n",
              "      <td>odscol</td>\n",
              "      <td>202107</td>\n",
              "      <td>90</td>\n",
              "      <td>90</td>\n",
              "      <td>7</td>\n",
              "      <td>73</td>\n",
              "      <td>AX1</td>\n",
              "      <td>70465</td>\n",
              "      <td>SALIDAS</td>\n",
              "      <td>20</td>\n",
              "      <td>-498060.00</td>\n",
              "      <td>-24903</td>\n",
              "    </tr>\n",
              "    <tr>\n",
              "      <th>79040</th>\n",
              "      <td>odscol</td>\n",
              "      <td>202209</td>\n",
              "      <td>90</td>\n",
              "      <td>90</td>\n",
              "      <td>10</td>\n",
              "      <td>103</td>\n",
              "      <td>CPC</td>\n",
              "      <td>100786</td>\n",
              "      <td>SALIDAS MM</td>\n",
              "      <td>0,02</td>\n",
              "      <td>-700.22</td>\n",
              "      <td>-35011</td>\n",
              "    </tr>\n",
              "    <tr>\n",
              "      <th>77767</th>\n",
              "      <td>odscol</td>\n",
              "      <td>202209</td>\n",
              "      <td>90</td>\n",
              "      <td>90</td>\n",
              "      <td>10</td>\n",
              "      <td>103</td>\n",
              "      <td>C4O</td>\n",
              "      <td>100021</td>\n",
              "      <td>SALIDAS MM</td>\n",
              "      <td>0,02</td>\n",
              "      <td>-705.22</td>\n",
              "      <td>-35261</td>\n",
              "    </tr>\n",
              "    <tr>\n",
              "      <th>110025</th>\n",
              "      <td>odscol</td>\n",
              "      <td>202209</td>\n",
              "      <td>90</td>\n",
              "      <td>90</td>\n",
              "      <td>10</td>\n",
              "      <td>103</td>\n",
              "      <td>C4N</td>\n",
              "      <td>103723</td>\n",
              "      <td>SALIDAS MM</td>\n",
              "      <td>0,02</td>\n",
              "      <td>-709.14</td>\n",
              "      <td>-35457</td>\n",
              "    </tr>\n",
              "  </tbody>\n",
              "</table>\n",
              "<p>119630 rows × 12 columns</p>\n",
              "</div>"
            ],
            "text/plain": [
              "        ORIGEN  PERIODO  PAIS_ORIGEN  PAIS_DESTINO  NEGOCIO  LINEA MARCA  \\\n",
              "131838  odssvc   201806           28            28       19    196  SDM    \n",
              "145410  odssvc   201908           28            28       19    196  SDM    \n",
              "62929   odscol   202209           90            90       11    111  GFA    \n",
              "47982   odscol   202210           90            90        7     78  951    \n",
              "108817  odscol   202109           90            90       11    111  GFA    \n",
              "...        ...      ...          ...           ...      ...    ...   ...   \n",
              "18050   odscol   202304           90            90        1     11  F75    \n",
              "14908   odscol   202107           90            90        7     73  AX1    \n",
              "79040   odscol   202209           90            90       10    103  CPC    \n",
              "77767   odscol   202209           90            90       10    103  C4O    \n",
              "110025  odscol   202209           90            90       10    103  C4N    \n",
              "\n",
              "        ARTICULO  INVENTARIO FACTOR_CIAL         UE      UC  \n",
              "131838   2062413  SALIDAS MM           2  360000.00  180000  \n",
              "145410   2062413  SALIDAS MM           2  308000.00  154000  \n",
              "62929     803425  SALIDAS MM           4  440496.00  110124  \n",
              "47982      76180     SALIDAS           5  529605.00  105921  \n",
              "108817    803425  SALIDAS MM           4  394472.00   98618  \n",
              "...          ...         ...         ...        ...     ...  \n",
              "18050     178862     SALIDAS           1  -23657.00  -23657  \n",
              "14908      70465     SALIDAS          20 -498060.00  -24903  \n",
              "79040     100786  SALIDAS MM        0,02    -700.22  -35011  \n",
              "77767     100021  SALIDAS MM        0,02    -705.22  -35261  \n",
              "110025    103723  SALIDAS MM        0,02    -709.14  -35457  \n",
              "\n",
              "[119630 rows x 12 columns]"
            ]
          },
          "execution_count": 27,
          "metadata": {},
          "output_type": "execute_result"
        }
      ],
      "source": [
        "df.sort_values(by='UC' , ascending=False)"
      ]
    }
  ],
  "metadata": {
    "kernelspec": {
      "display_name": "Python 3",
      "language": "python",
      "name": "python3"
    },
    "language_info": {
      "codemirror_mode": {
        "name": "ipython",
        "version": 3
      },
      "file_extension": ".py",
      "mimetype": "text/x-python",
      "name": "python",
      "nbconvert_exporter": "python",
      "pygments_lexer": "ipython3",
      "version": "3.12.3"
    },
    "colab": {
      "provenance": [],
      "include_colab_link": true
    }
  },
  "nbformat": 4,
  "nbformat_minor": 0
}