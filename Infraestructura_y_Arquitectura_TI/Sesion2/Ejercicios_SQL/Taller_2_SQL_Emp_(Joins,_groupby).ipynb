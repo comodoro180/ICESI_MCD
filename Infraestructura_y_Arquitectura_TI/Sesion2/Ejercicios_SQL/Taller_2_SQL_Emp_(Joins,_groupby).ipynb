{
  "nbformat": 4,
  "nbformat_minor": 0,
  "metadata": {
    "colab": {
      "provenance": [],
      "collapsed_sections": [
        "_D8JbTh02GDA",
        "G6fd-BtzmfhN",
        "xRuwpOEE0kUO",
        "Fr3JnzQT0lVj",
        "xnSM712V0mGR",
        "TNuy9C0O8Jph",
        "k_0xwDDT8f1O",
        "ayUZQUc9-wqB",
        "Nt7jPyx4_zJI",
        "D7MQdvGLBWKs",
        "mH6e7rT_B31j",
        "7KS4e329C8e6",
        "LeEqEmLq0uJc"
      ],
      "include_colab_link": true
    },
    "kernelspec": {
      "name": "python3",
      "display_name": "Python 3"
    }
  },
  "cells": [
    {
      "cell_type": "markdown",
      "metadata": {
        "id": "view-in-github",
        "colab_type": "text"
      },
      "source": [
        "<a href=\"https://colab.research.google.com/github/comodoro180/ICESI_MCD/blob/main/Infraestructura_y_Arquitectura_TI/Sesion2/Ejercicios_SQL/Taller_2_SQL_Emp_(Joins%2C_groupby).ipynb\" target=\"_parent\"><img src=\"https://colab.research.google.com/assets/colab-badge.svg\" alt=\"Open In Colab\"/></a>"
      ]
    },
    {
      "cell_type": "markdown",
      "metadata": {
        "id": "tRHyN7N81xCS"
      },
      "source": [
        "\n",
        "<font color=\"red\">*Para iniciar, cree su propia copia de este notebook. File> Save a Copy in Drive*</font>\n",
        "\n",
        "\n",
        "---\n",
        "<font color=\"green\">\n",
        "Ten en cuenta los siguientes pasos:\n",
        "1.    \n",
        "\n",
        "1.   Ve al menú \"Archivo\" en la esquina superior izquierda de la interfaz de Colab.\n",
        "2.   Selecciona la opción \"Guardar una copia en Drive\" del menú desplegable. Esto creará una copia del cuaderno en tu propia cuenta de Google Drive.\n",
        "3. Google Colab abrirá automáticamente la nueva copia del cuaderno, y verás que ahora está ubicado en tu Google Drive en la carpeta \"Colab Notebooks\".\n",
        "4. Puedes editar y ejecutar esta copia del cuaderno como desees, y todos los cambios que hagas se guardarán en tu propia cuenta de Google Drive.\n",
        "\n",
        "</font>"
      ]
    },
    {
      "cell_type": "markdown",
      "metadata": {
        "id": "_brgSPnC2ClB"
      },
      "source": [
        "# SQL Programming - Joins y funciones de agregación\n",
        "*Creado por : Mónica Rojas (Universidad Icesi)*"
      ]
    },
    {
      "cell_type": "markdown",
      "metadata": {
        "id": "_D8JbTh02GDA"
      },
      "source": [
        "## 1.1 Objetivo\n",
        "El objetivo de este taller es realizar operaciones de agregación con GROUP BY y consultas que involucran múltiples tablas mediante JOIN.\n"
      ]
    },
    {
      "cell_type": "markdown",
      "source": [
        "##Instrucciones:\n",
        "1. Lea cuidadosamente la explicación.\n",
        "2. Para ejecutar el código en una celda, puede hacer clic en el botón \"Ejecutar\" junto a la celda o simplemente presionar \"Shift + Enter\" en su teclado."
      ],
      "metadata": {
        "id": "fLssocTTezxB"
      }
    },
    {
      "cell_type": "markdown",
      "metadata": {
        "id": "D6BU_C0d3dMo"
      },
      "source": [
        "## 1.2 Conectando a nuestra base de datos\n",
        "Correr la siguiente instrucción para cargar la extensión de sql en nuestro ambiente."
      ]
    },
    {
      "cell_type": "code",
      "metadata": {
        "id": "PDk968tq3v43"
      },
      "source": [
        "# Lo primero que haremos será cargar una extensión de SQL en nuestro entorno\n",
        "# Esta extensión nos permitirá trabajar con SQL en Colaboratory\n",
        "#\n",
        "%load_ext sql\n",
        "\n",
        "# A continuación nos conectaremos a nuestra base de datos sqlite en memoria\n",
        "# Nota: Esta base de datos dejará de existir tan pronto como se cierre la conexión a la base de datos\n",
        "# Aprenderemos más sobre cómo se crean las bases de datos más adelante en la preparación\n",
        "#\n",
        "%sql sqlite://"
      ],
      "execution_count": null,
      "outputs": []
    },
    {
      "cell_type": "markdown",
      "metadata": {
        "id": "TjMtC5JN7ZoI"
      },
      "source": [
        "## 1.3 Creando una tabla e inserción de datos\n",
        "A continuación se pueden observar ejemplo de creación de tablas e inserción de datos, se pueden ejecutar para posteriormente realizar consultas sobre ellas."
      ]
    },
    {
      "cell_type": "markdown",
      "source": [
        "Utilizaremos las mismas tablas del taller anterior.\n",
        "\n",
        "Se realiza la creación de la tabla EMP (definición del esquema), con los siguientes atributos: número del empleado (EMPNO), nombre del empleado (ENAME), cargo (JOB), jefe (MGR), fecha de ingreso (HIREDATE), salario (SAL), comisiones (COMM) y número del departamento en el que trabaja (DEPTNO).\n",
        "\n",
        "A continuación ejecute el comando para ver el resultado.\n"
      ],
      "metadata": {
        "id": "3eNUFWWObqqn"
      }
    },
    {
      "cell_type": "code",
      "metadata": {
        "id": "ee0bJxIKPQvK",
        "outputId": "ac77d0b7-f78b-4398-f7c5-b211ba9b80cc",
        "colab": {
          "base_uri": "https://localhost:8080/",
          "height": 638
        }
      },
      "source": [
        "# Example 1\n",
        "# We will now define and create a table Emp in our database (if it doesn't exist).\n",
        "# This table will have fields: empno, ename, job, mgr, hiredate,sal,comm and deptno\n",
        "# We will insert example rows into the table and then get all the records in the table.\n",
        "#\n",
        "%%sql\n",
        "--drop table emp;\n",
        "\n",
        "CREATE TABLE if not exists EMP\n",
        "       (EMPNO NUMBER(4) NOT NULL,\n",
        "        ENAME VARCHAR2(10),\n",
        "        JOB VARCHAR2(9),\n",
        "        MGR NUMBER(4),\n",
        "        HIREDATE DATE,\n",
        "        SAL NUMBER(7, 2),\n",
        "        COMM NUMBER(7, 2),\n",
        "        DEPTNO NUMBER(2));\n",
        "\n",
        "-- insertar datos en la tabla EMP\n",
        "INSERT INTO EMP VALUES (7369, 'SMITH','CLERK',7902,'17-DEC-1980',  800,NULL, 20);\n",
        "INSERT INTO EMP VALUES (7499, 'ALLEN', 'SALESMAN',7698, '20-FEB-1981', 1600,  300, 30);\n",
        "INSERT INTO EMP VALUES (7521, 'WARD', 'SALESMAN', 7698, '22-FEB-1981', 1250, 500, 30);\n",
        "INSERT INTO EMP VALUES (7566, 'JONES', 'MANAGER', 7839, '1981-04-02', 2975, NULL, 20);\n",
        "INSERT INTO EMP VALUES (7654, 'MARTIN', 'SALESMAN', 7698, '1981-09-28', 1250, 1400, 30);\n",
        "INSERT INTO EMP VALUES (7698, 'BLAKE', 'MANAGER', 7839, '1981-05-01', 2850, NULL, 30);\n",
        "INSERT INTO EMP VALUES (7782, 'CLARK', 'MANAGER', 7839, '1981-06-09', 2450, NULL, 10);\n",
        "INSERT INTO EMP VALUES (7788, 'SCOTT', 'ANALYST', 7566, '1982-12-09', 3000, NULL, 20);\n",
        "INSERT INTO EMP VALUES (7839, 'KING', 'PRESIDENT', NULL, '1981-11-17', 5000, NULL, 10);\n",
        "INSERT INTO EMP VALUES (7844, 'TURNER', 'SALESMAN', 7698, '1981-09-08', 1500, 0, 30);\n",
        "INSERT INTO EMP VALUES (7876, 'ADAMS', 'CLERK', 7788, '1983-01-12', 1100, NULL, 20);\n",
        "INSERT INTO EMP VALUES (7900, 'JAMES', 'CLERK', 7698, '1981-12-03', 950, NULL, 30);\n",
        "INSERT INTO EMP VALUES (7902, 'FORD', 'ANALYST', 7566, '1981-12-03', 3000, NULL, 20);\n",
        "INSERT INTO EMP VALUES (7934, 'MILLER', 'CLERK', 7782, '1982-01-23', 1300, NULL, 10);\n",
        "\n",
        "-- mostrar los empleados\n",
        "\n",
        "SELECT * From EMP;"
      ],
      "execution_count": null,
      "outputs": [
        {
          "output_type": "stream",
          "name": "stdout",
          "text": [
            " * sqlite://\n",
            "Done.\n",
            "1 rows affected.\n",
            "1 rows affected.\n",
            "1 rows affected.\n",
            "1 rows affected.\n",
            "1 rows affected.\n",
            "1 rows affected.\n",
            "1 rows affected.\n",
            "1 rows affected.\n",
            "1 rows affected.\n",
            "1 rows affected.\n",
            "1 rows affected.\n",
            "1 rows affected.\n",
            "1 rows affected.\n",
            "1 rows affected.\n",
            "Done.\n"
          ]
        },
        {
          "output_type": "execute_result",
          "data": {
            "text/plain": [
              "[(7369, 'SMITH', 'CLERK', 7902, '17-DEC-1980', 800, None, 20),\n",
              " (7499, 'ALLEN', 'SALESMAN', 7698, '20-FEB-1981', 1600, 300, 30),\n",
              " (7521, 'WARD', 'SALESMAN', 7698, '22-FEB-1981', 1250, 500, 30),\n",
              " (7566, 'JONES', 'MANAGER', 7839, '1981-04-02', 2975, None, 20),\n",
              " (7654, 'MARTIN', 'SALESMAN', 7698, '1981-09-28', 1250, 1400, 30),\n",
              " (7698, 'BLAKE', 'MANAGER', 7839, '1981-05-01', 2850, None, 30),\n",
              " (7782, 'CLARK', 'MANAGER', 7839, '1981-06-09', 2450, None, 10),\n",
              " (7788, 'SCOTT', 'ANALYST', 7566, '1982-12-09', 3000, None, 20),\n",
              " (7839, 'KING', 'PRESIDENT', None, '1981-11-17', 5000, None, 10),\n",
              " (7844, 'TURNER', 'SALESMAN', 7698, '1981-09-08', 1500, 0, 30),\n",
              " (7876, 'ADAMS', 'CLERK', 7788, '1983-01-12', 1100, None, 20),\n",
              " (7900, 'JAMES', 'CLERK', 7698, '1981-12-03', 950, None, 30),\n",
              " (7902, 'FORD', 'ANALYST', 7566, '1981-12-03', 3000, None, 20),\n",
              " (7934, 'MILLER', 'CLERK', 7782, '1982-01-23', 1300, None, 10)]"
            ],
            "text/html": [
              "<table>\n",
              "    <thead>\n",
              "        <tr>\n",
              "            <th>EMPNO</th>\n",
              "            <th>ENAME</th>\n",
              "            <th>JOB</th>\n",
              "            <th>MGR</th>\n",
              "            <th>HIREDATE</th>\n",
              "            <th>SAL</th>\n",
              "            <th>COMM</th>\n",
              "            <th>DEPTNO</th>\n",
              "        </tr>\n",
              "    </thead>\n",
              "    <tbody>\n",
              "        <tr>\n",
              "            <td>7369</td>\n",
              "            <td>SMITH</td>\n",
              "            <td>CLERK</td>\n",
              "            <td>7902</td>\n",
              "            <td>17-DEC-1980</td>\n",
              "            <td>800</td>\n",
              "            <td>None</td>\n",
              "            <td>20</td>\n",
              "        </tr>\n",
              "        <tr>\n",
              "            <td>7499</td>\n",
              "            <td>ALLEN</td>\n",
              "            <td>SALESMAN</td>\n",
              "            <td>7698</td>\n",
              "            <td>20-FEB-1981</td>\n",
              "            <td>1600</td>\n",
              "            <td>300</td>\n",
              "            <td>30</td>\n",
              "        </tr>\n",
              "        <tr>\n",
              "            <td>7521</td>\n",
              "            <td>WARD</td>\n",
              "            <td>SALESMAN</td>\n",
              "            <td>7698</td>\n",
              "            <td>22-FEB-1981</td>\n",
              "            <td>1250</td>\n",
              "            <td>500</td>\n",
              "            <td>30</td>\n",
              "        </tr>\n",
              "        <tr>\n",
              "            <td>7566</td>\n",
              "            <td>JONES</td>\n",
              "            <td>MANAGER</td>\n",
              "            <td>7839</td>\n",
              "            <td>1981-04-02</td>\n",
              "            <td>2975</td>\n",
              "            <td>None</td>\n",
              "            <td>20</td>\n",
              "        </tr>\n",
              "        <tr>\n",
              "            <td>7654</td>\n",
              "            <td>MARTIN</td>\n",
              "            <td>SALESMAN</td>\n",
              "            <td>7698</td>\n",
              "            <td>1981-09-28</td>\n",
              "            <td>1250</td>\n",
              "            <td>1400</td>\n",
              "            <td>30</td>\n",
              "        </tr>\n",
              "        <tr>\n",
              "            <td>7698</td>\n",
              "            <td>BLAKE</td>\n",
              "            <td>MANAGER</td>\n",
              "            <td>7839</td>\n",
              "            <td>1981-05-01</td>\n",
              "            <td>2850</td>\n",
              "            <td>None</td>\n",
              "            <td>30</td>\n",
              "        </tr>\n",
              "        <tr>\n",
              "            <td>7782</td>\n",
              "            <td>CLARK</td>\n",
              "            <td>MANAGER</td>\n",
              "            <td>7839</td>\n",
              "            <td>1981-06-09</td>\n",
              "            <td>2450</td>\n",
              "            <td>None</td>\n",
              "            <td>10</td>\n",
              "        </tr>\n",
              "        <tr>\n",
              "            <td>7788</td>\n",
              "            <td>SCOTT</td>\n",
              "            <td>ANALYST</td>\n",
              "            <td>7566</td>\n",
              "            <td>1982-12-09</td>\n",
              "            <td>3000</td>\n",
              "            <td>None</td>\n",
              "            <td>20</td>\n",
              "        </tr>\n",
              "        <tr>\n",
              "            <td>7839</td>\n",
              "            <td>KING</td>\n",
              "            <td>PRESIDENT</td>\n",
              "            <td>None</td>\n",
              "            <td>1981-11-17</td>\n",
              "            <td>5000</td>\n",
              "            <td>None</td>\n",
              "            <td>10</td>\n",
              "        </tr>\n",
              "        <tr>\n",
              "            <td>7844</td>\n",
              "            <td>TURNER</td>\n",
              "            <td>SALESMAN</td>\n",
              "            <td>7698</td>\n",
              "            <td>1981-09-08</td>\n",
              "            <td>1500</td>\n",
              "            <td>0</td>\n",
              "            <td>30</td>\n",
              "        </tr>\n",
              "        <tr>\n",
              "            <td>7876</td>\n",
              "            <td>ADAMS</td>\n",
              "            <td>CLERK</td>\n",
              "            <td>7788</td>\n",
              "            <td>1983-01-12</td>\n",
              "            <td>1100</td>\n",
              "            <td>None</td>\n",
              "            <td>20</td>\n",
              "        </tr>\n",
              "        <tr>\n",
              "            <td>7900</td>\n",
              "            <td>JAMES</td>\n",
              "            <td>CLERK</td>\n",
              "            <td>7698</td>\n",
              "            <td>1981-12-03</td>\n",
              "            <td>950</td>\n",
              "            <td>None</td>\n",
              "            <td>30</td>\n",
              "        </tr>\n",
              "        <tr>\n",
              "            <td>7902</td>\n",
              "            <td>FORD</td>\n",
              "            <td>ANALYST</td>\n",
              "            <td>7566</td>\n",
              "            <td>1981-12-03</td>\n",
              "            <td>3000</td>\n",
              "            <td>None</td>\n",
              "            <td>20</td>\n",
              "        </tr>\n",
              "        <tr>\n",
              "            <td>7934</td>\n",
              "            <td>MILLER</td>\n",
              "            <td>CLERK</td>\n",
              "            <td>7782</td>\n",
              "            <td>1982-01-23</td>\n",
              "            <td>1300</td>\n",
              "            <td>None</td>\n",
              "            <td>10</td>\n",
              "        </tr>\n",
              "    </tbody>\n",
              "</table>"
            ]
          },
          "metadata": {},
          "execution_count": 3
        }
      ]
    },
    {
      "cell_type": "markdown",
      "source": [
        "Creación de la tabla DEPT, que tiene los atributos: número de departamento (DEPTNO), nombre (DNAME), y ubicación (LOC), con su respectiva definición.\n",
        "\n",
        "Y se realizar la inserción de datos. A continuación ejecute el comando para ver lo realizado."
      ],
      "metadata": {
        "id": "nF2448m3d8Ri"
      }
    },
    {
      "cell_type": "code",
      "metadata": {
        "id": "a5-4ih-ea37Z",
        "outputId": "73b48f33-3312-4b42-b2f2-a586ddac7ba9",
        "colab": {
          "base_uri": "https://localhost:8080/",
          "height": 249
        }
      },
      "source": [
        "# Ejemplo 2\n",
        "# En este ejemplo, crearemos una tabla llamada DEPT\n",
        "# con las columnas Deptno, dname y loc.\n",
        "#\n",
        "%%sql\n",
        "CREATE TABLE if not exists DEPT\n",
        "       (DEPTNO NUMBER(2),\n",
        "        DNAME VARCHAR2(14),\n",
        "        LOC VARCHAR2(13));\n",
        "\n",
        "-- Insertar datos en la tabla DEPT\n",
        "INSERT INTO DEPT VALUES (10, 'ACCOUNTING', 'NEW YORK');\n",
        "INSERT INTO DEPT VALUES (20, 'RESEARCH',   'DALLAS');\n",
        "INSERT INTO DEPT VALUES (30, 'SALES',      'CHICAGO');\n",
        "INSERT INTO DEPT VALUES (40, 'OPERATIONS', 'BOSTON');\n",
        "\n",
        "-- mostrar toda la información de los departamentos\n",
        "SELECT * From DEPT;"
      ],
      "execution_count": null,
      "outputs": [
        {
          "output_type": "stream",
          "name": "stdout",
          "text": [
            " * sqlite://\n",
            "Done.\n",
            "1 rows affected.\n",
            "1 rows affected.\n",
            "1 rows affected.\n",
            "1 rows affected.\n",
            "Done.\n"
          ]
        },
        {
          "output_type": "execute_result",
          "data": {
            "text/plain": [
              "[(10, 'ACCOUNTING', 'NEW YORK'),\n",
              " (20, 'RESEARCH', 'DALLAS'),\n",
              " (30, 'SALES', 'CHICAGO'),\n",
              " (40, 'OPERATIONS', 'BOSTON')]"
            ],
            "text/html": [
              "<table>\n",
              "    <thead>\n",
              "        <tr>\n",
              "            <th>DEPTNO</th>\n",
              "            <th>DNAME</th>\n",
              "            <th>LOC</th>\n",
              "        </tr>\n",
              "    </thead>\n",
              "    <tbody>\n",
              "        <tr>\n",
              "            <td>10</td>\n",
              "            <td>ACCOUNTING</td>\n",
              "            <td>NEW YORK</td>\n",
              "        </tr>\n",
              "        <tr>\n",
              "            <td>20</td>\n",
              "            <td>RESEARCH</td>\n",
              "            <td>DALLAS</td>\n",
              "        </tr>\n",
              "        <tr>\n",
              "            <td>30</td>\n",
              "            <td>SALES</td>\n",
              "            <td>CHICAGO</td>\n",
              "        </tr>\n",
              "        <tr>\n",
              "            <td>40</td>\n",
              "            <td>OPERATIONS</td>\n",
              "            <td>BOSTON</td>\n",
              "        </tr>\n",
              "    </tbody>\n",
              "</table>"
            ]
          },
          "metadata": {},
          "execution_count": 4
        }
      ]
    },
    {
      "cell_type": "markdown",
      "source": [
        "Creación de la tabla SALGRADE, que tiene los atributos: grado (GRADE), salario mínimo (losal), y salario máximo (hisal), con su respectiva definición.\n",
        "\n",
        "Y se realiza la inserción de datos. A continuación ejecute el comando para ver lo realizado."
      ],
      "metadata": {
        "id": "nv9LOfjL8PPy"
      }
    },
    {
      "cell_type": "code",
      "source": [
        "# Ejemplo 2\n",
        "# En este ejemplo, crearemos una tabla llamada SALGRADE\n",
        "# con las columnas grade, losal y hisal.\n",
        "#\n",
        "%%sql\n",
        "CREATE TABLE if not exists SALGRADE\n",
        "      (GRADE NUMBER(2),\n",
        "      LOSAL NUMBER(8),\n",
        "      HISAL NUMBER(8));\n",
        "\n",
        "-- Insertar datos en la tabla SALGRADE\n",
        "INSERT INTO SALGRADE VALUES (1, 800, 1499.99);\n",
        "INSERT INTO SALGRADE VALUES (2, 1500, 2499.99);\n",
        "INSERT INTO SALGRADE VALUES (3, 2500, 4999.99);\n",
        "INSERT INTO SALGRADE VALUES (4, 4500, 99999999);\n",
        "\n",
        "-- mostrar toda la información de los grados salariales\n",
        "SELECT * From SALGRADE;"
      ],
      "metadata": {
        "colab": {
          "base_uri": "https://localhost:8080/",
          "height": 249
        },
        "id": "61C7qenl9DEe",
        "outputId": "5e85b7ce-801b-4901-93d2-4409339ba19f"
      },
      "execution_count": null,
      "outputs": [
        {
          "output_type": "stream",
          "name": "stdout",
          "text": [
            " * sqlite://\n",
            "Done.\n",
            "1 rows affected.\n",
            "1 rows affected.\n",
            "1 rows affected.\n",
            "1 rows affected.\n",
            "Done.\n"
          ]
        },
        {
          "output_type": "execute_result",
          "data": {
            "text/plain": [
              "[(1, 800, 1499.99),\n",
              " (2, 1500, 2499.99),\n",
              " (3, 2500, 4999.99),\n",
              " (4, 4500, 99999999)]"
            ],
            "text/html": [
              "<table>\n",
              "    <thead>\n",
              "        <tr>\n",
              "            <th>GRADE</th>\n",
              "            <th>LOSAL</th>\n",
              "            <th>HISAL</th>\n",
              "        </tr>\n",
              "    </thead>\n",
              "    <tbody>\n",
              "        <tr>\n",
              "            <td>1</td>\n",
              "            <td>800</td>\n",
              "            <td>1499.99</td>\n",
              "        </tr>\n",
              "        <tr>\n",
              "            <td>2</td>\n",
              "            <td>1500</td>\n",
              "            <td>2499.99</td>\n",
              "        </tr>\n",
              "        <tr>\n",
              "            <td>3</td>\n",
              "            <td>2500</td>\n",
              "            <td>4999.99</td>\n",
              "        </tr>\n",
              "        <tr>\n",
              "            <td>4</td>\n",
              "            <td>4500</td>\n",
              "            <td>99999999</td>\n",
              "        </tr>\n",
              "    </tbody>\n",
              "</table>"
            ]
          },
          "metadata": {},
          "execution_count": 5
        }
      ]
    },
    {
      "cell_type": "markdown",
      "source": [
        "## 1.3 Consultas con varias tablas\n",
        "Realizar las siguientes consultas, en cada una se presenta un pantallazo del resultado esperado, para que comparen sus resultados."
      ],
      "metadata": {
        "id": "XEd6Qsd8hGlY"
      }
    },
    {
      "cell_type": "markdown",
      "source": [
        "![image.png](data:image/png;base64,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)"
      ],
      "metadata": {
        "id": "IlbeORAzJmVc"
      }
    },
    {
      "cell_type": "markdown",
      "source": [
        "La cláusula `JOIN`en SQL se utiliza para combinar filas de dos o más tablas en función de una columna relacionada entre ellas. Esta operación se realiza para obtener información completa de múltiples tablas relacionadas en una sola consulta. El \"`JOIN`\" es fundamental cuando se trabaja con bases de datos relacionales, ya que permite vincular y extraer datos de manera efectiva de tablas que se relacionan entre sí.\n",
        "\n",
        "* `INNER JOIN`: Combina filas de dos tablas en función de una columna de igualdad y devuelve solo las filas donde hay una coincidencia en ambas tablas. Si no hay coincidencia en la columna especificada, esas filas no se incluirán en el resultado.\n",
        "\n",
        "> Sintaxis\n",
        "\n",
        "```\n",
        "SELECT columna1, columna2, ...\n",
        "FROM tabla1 inner join tabla2 on tabla1.columna1 = tabla2.columna2;\n",
        "```\n",
        "\n",
        "* `NATURAL INNER JOIN`: similar al INNER JOIN, con la diferencia de que el join se realiza por la columnas con el mismo nombre en ambas tablas, deben tener el mismo tipo de datos para que la unión sea exitosa. El resultado incluirá solo los registros que tengan coincidencias en todas las columnas con el mismo nombre en ambas tablas.\n",
        "\n",
        "> Sintaxis\n",
        "\n",
        "```\n",
        "SELECT columna1, columna2, ...\n",
        "FROM tabla1 natural inner join tabla2;\n",
        "```\n"
      ],
      "metadata": {
        "id": "m1-rgwaecTVv"
      }
    },
    {
      "cell_type": "markdown",
      "source": [
        "Ej: Nombre del empleado con el nombre del departartamento en el que trabaja.\n",
        "\n",
        "\n",
        "```\n",
        "SELECT ename, dname\n",
        "FROM dept d inner join emp e  on d.deptno = e.deptno;\n",
        "```\n",
        "> En este caso, es necesario utilizar un alias para el nombrado de las tablas (o usar el nombre completo de la tablas), porque el atributo tiene igual nombre  en ambas tablas.\n",
        "\n",
        "```\n",
        "SELECT ename, dname\n",
        "FROM dept natural inner join;\n",
        "```\n",
        "> En este caso, como el nombre de la columna es deptno en ambas tablas, entonces se puede hacer natural inner join y no hay más columnas iguales en ambas tablas."
      ],
      "metadata": {
        "id": "sOc96NR7MCxW"
      }
    },
    {
      "cell_type": "markdown",
      "source": [
        "### **1) Seleccionar el número y nombre de los empleados con el nombre del departamento en el que trabajan.**\n",
        "\n",
        "Tip: como se requieren datos de la tabla EMP y de la tabla DEPT, es necesario utilizar `JOIN`.  En este caso se utilizaría un `INNER JOIN`. Recuerde incluir la condición de unión de las tablas en la cláusula ON.\n",
        "\n",
        "El resultado esperado es:\n",
        "\n",
        "![image.png](data:image/png;base64,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)"
      ],
      "metadata": {
        "id": "s-X7P6DjL050"
      }
    },
    {
      "cell_type": "code",
      "source": [
        "# Consulta\n",
        "# Seleccionar el número y nombre de los empleados con el nombre del departamento en el que trabajan.\n",
        "#\n",
        "%%sql\n",
        "\n",
        "select *\n",
        "from   ..."
      ],
      "metadata": {
        "id": "QQNQ2rt-MaWu",
        "colab": {
          "base_uri": "https://localhost:8080/"
        },
        "outputId": "7ea73bce-997a-44e1-d0f1-4a400a8a94c1"
      },
      "execution_count": null,
      "outputs": [
        {
          "output_type": "stream",
          "name": "stdout",
          "text": [
            " * sqlite://\n",
            "(sqlite3.OperationalError) near \".\": syntax error\n",
            "[SQL: select *\n",
            "from   ...]\n",
            "(Background on this error at: https://sqlalche.me/e/20/e3q8)\n"
          ]
        }
      ]
    },
    {
      "cell_type": "markdown",
      "source": [
        "#### Solución:\n",
        "\n",
        "Puedes acudir a ella en caso de bloqueo."
      ],
      "metadata": {
        "id": "G6fd-BtzmfhN"
      }
    },
    {
      "cell_type": "code",
      "source": [
        "%%sql\n",
        "\n",
        "SELECT empno, ename, dname\n",
        "FROM EMP e INNER JOIN DEPT d\n",
        "ON e.deptno = d.deptno;"
      ],
      "metadata": {
        "id": "iYAfoHZ1mpk0",
        "colab": {
          "base_uri": "https://localhost:8080/"
        },
        "outputId": "fa8687cb-d1a1-43f8-f22d-77884d4132d8"
      },
      "execution_count": null,
      "outputs": [
        {
          "output_type": "stream",
          "name": "stdout",
          "text": [
            " * sqlite://\n",
            "Done.\n"
          ]
        },
        {
          "output_type": "execute_result",
          "data": {
            "text/plain": [
              "[(7369, 'SMITH', 'RESEARCH'),\n",
              " (7499, 'ALLEN', 'SALES'),\n",
              " (7521, 'WARD', 'SALES'),\n",
              " (7566, 'JONES', 'RESEARCH'),\n",
              " (7654, 'MARTIN', 'SALES'),\n",
              " (7698, 'BLAKE', 'SALES'),\n",
              " (7782, 'CLARK', 'ACCOUNTING'),\n",
              " (7788, 'SCOTT', 'RESEARCH'),\n",
              " (7839, 'KING', 'ACCOUNTING'),\n",
              " (7844, 'TURNER', 'SALES'),\n",
              " (7876, 'ADAMS', 'RESEARCH'),\n",
              " (7900, 'JAMES', 'SALES'),\n",
              " (7902, 'FORD', 'RESEARCH'),\n",
              " (7934, 'MILLER', 'ACCOUNTING')]"
            ],
            "text/html": [
              "<table>\n",
              "    <thead>\n",
              "        <tr>\n",
              "            <th>EMPNO</th>\n",
              "            <th>ENAME</th>\n",
              "            <th>DNAME</th>\n",
              "        </tr>\n",
              "    </thead>\n",
              "    <tbody>\n",
              "        <tr>\n",
              "            <td>7369</td>\n",
              "            <td>SMITH</td>\n",
              "            <td>RESEARCH</td>\n",
              "        </tr>\n",
              "        <tr>\n",
              "            <td>7499</td>\n",
              "            <td>ALLEN</td>\n",
              "            <td>SALES</td>\n",
              "        </tr>\n",
              "        <tr>\n",
              "            <td>7521</td>\n",
              "            <td>WARD</td>\n",
              "            <td>SALES</td>\n",
              "        </tr>\n",
              "        <tr>\n",
              "            <td>7566</td>\n",
              "            <td>JONES</td>\n",
              "            <td>RESEARCH</td>\n",
              "        </tr>\n",
              "        <tr>\n",
              "            <td>7654</td>\n",
              "            <td>MARTIN</td>\n",
              "            <td>SALES</td>\n",
              "        </tr>\n",
              "        <tr>\n",
              "            <td>7698</td>\n",
              "            <td>BLAKE</td>\n",
              "            <td>SALES</td>\n",
              "        </tr>\n",
              "        <tr>\n",
              "            <td>7782</td>\n",
              "            <td>CLARK</td>\n",
              "            <td>ACCOUNTING</td>\n",
              "        </tr>\n",
              "        <tr>\n",
              "            <td>7788</td>\n",
              "            <td>SCOTT</td>\n",
              "            <td>RESEARCH</td>\n",
              "        </tr>\n",
              "        <tr>\n",
              "            <td>7839</td>\n",
              "            <td>KING</td>\n",
              "            <td>ACCOUNTING</td>\n",
              "        </tr>\n",
              "        <tr>\n",
              "            <td>7844</td>\n",
              "            <td>TURNER</td>\n",
              "            <td>SALES</td>\n",
              "        </tr>\n",
              "        <tr>\n",
              "            <td>7876</td>\n",
              "            <td>ADAMS</td>\n",
              "            <td>RESEARCH</td>\n",
              "        </tr>\n",
              "        <tr>\n",
              "            <td>7900</td>\n",
              "            <td>JAMES</td>\n",
              "            <td>SALES</td>\n",
              "        </tr>\n",
              "        <tr>\n",
              "            <td>7902</td>\n",
              "            <td>FORD</td>\n",
              "            <td>RESEARCH</td>\n",
              "        </tr>\n",
              "        <tr>\n",
              "            <td>7934</td>\n",
              "            <td>MILLER</td>\n",
              "            <td>ACCOUNTING</td>\n",
              "        </tr>\n",
              "    </tbody>\n",
              "</table>"
            ]
          },
          "metadata": {},
          "execution_count": 7
        }
      ]
    },
    {
      "cell_type": "markdown",
      "source": [
        "### **2) Seleccionar los empleados del departamento 'SALES' que ganan más de 1500.**\n",
        "\n",
        "**Tip**: al hacer un JOIN, si se quiere mostrar toda la información de una tabla se puede especificar:\n",
        "\n",
        " `SELECT EMP.*` para mostrar todos los atributos de la tabla EMP.\n",
        "\n",
        " El resultado esperado es:\n",
        "\n",
        " ![image.png](data:image/png;base64,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)"
      ],
      "metadata": {
        "id": "y0XYRah1Ruy6"
      }
    },
    {
      "cell_type": "code",
      "source": [
        "# Consulta\n",
        "# Seleccionar el número y nombre de los empleados con el nombre del departamento en el que trabajan.\n",
        "#\n",
        "%%sql\n",
        "\n",
        "SELECT emp.*\n",
        "FROM ...\n",
        "WHERE ..."
      ],
      "metadata": {
        "id": "dvKoimbHVd7X",
        "colab": {
          "base_uri": "https://localhost:8080/"
        },
        "outputId": "dee6ba3c-acb1-48da-a64b-5dc8a62329ea"
      },
      "execution_count": null,
      "outputs": [
        {
          "output_type": "stream",
          "name": "stdout",
          "text": [
            " * sqlite://\n",
            "(sqlite3.OperationalError) near \".\": syntax error\n",
            "[SQL: SELECT emp.*\n",
            "FROM ...\n",
            "WHERE ...]\n",
            "(Background on this error at: https://sqlalche.me/e/20/e3q8)\n"
          ]
        }
      ]
    },
    {
      "cell_type": "markdown",
      "source": [
        "#### Solución:\n",
        "\n",
        "Puedes acudir a ella en caso de bloqueo."
      ],
      "metadata": {
        "id": "xRuwpOEE0kUO"
      }
    },
    {
      "cell_type": "code",
      "source": [
        "%%sql\n",
        "\n",
        "SELECT\n",
        "  e.*\n",
        "FROM\n",
        "  EMP e\n",
        "INNER JOIN\n",
        "  DEPT d ON e.deptno = d.deptno\n",
        "WHERE\n",
        "  d.dname = 'SALES' AND e.sal > 1500;"
      ],
      "metadata": {
        "id": "5k5K5tfP0kUV",
        "colab": {
          "base_uri": "https://localhost:8080/"
        },
        "outputId": "875d692e-95de-4e21-b118-03ab0655d338"
      },
      "execution_count": null,
      "outputs": [
        {
          "output_type": "stream",
          "name": "stdout",
          "text": [
            " * sqlite://\n",
            "Done.\n"
          ]
        },
        {
          "output_type": "execute_result",
          "data": {
            "text/plain": [
              "[(7499, 'ALLEN', 'SALESMAN', 7698, '20-FEB-1981', 1600, 300, 30),\n",
              " (7698, 'BLAKE', 'MANAGER', 7839, '1981-05-01', 2850, None, 30)]"
            ],
            "text/html": [
              "<table>\n",
              "    <thead>\n",
              "        <tr>\n",
              "            <th>EMPNO</th>\n",
              "            <th>ENAME</th>\n",
              "            <th>JOB</th>\n",
              "            <th>MGR</th>\n",
              "            <th>HIREDATE</th>\n",
              "            <th>SAL</th>\n",
              "            <th>COMM</th>\n",
              "            <th>DEPTNO</th>\n",
              "        </tr>\n",
              "    </thead>\n",
              "    <tbody>\n",
              "        <tr>\n",
              "            <td>7499</td>\n",
              "            <td>ALLEN</td>\n",
              "            <td>SALESMAN</td>\n",
              "            <td>7698</td>\n",
              "            <td>20-FEB-1981</td>\n",
              "            <td>1600</td>\n",
              "            <td>300</td>\n",
              "            <td>30</td>\n",
              "        </tr>\n",
              "        <tr>\n",
              "            <td>7698</td>\n",
              "            <td>BLAKE</td>\n",
              "            <td>MANAGER</td>\n",
              "            <td>7839</td>\n",
              "            <td>1981-05-01</td>\n",
              "            <td>2850</td>\n",
              "            <td>None</td>\n",
              "            <td>30</td>\n",
              "        </tr>\n",
              "    </tbody>\n",
              "</table>"
            ]
          },
          "metadata": {},
          "execution_count": 9
        }
      ]
    },
    {
      "cell_type": "markdown",
      "source": [
        "### **3)\tDeterminar el nombre de cada empleado junto con la diferencia de grado salarial existente con su jefe  (grado del jefe – grado del empleado)**\n",
        "\n",
        "![image.png](data:image/png;base64,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)\n"
      ],
      "metadata": {
        "id": "P0_pY10FpLm6"
      }
    },
    {
      "cell_type": "code",
      "source": [
        "# Consulta\n",
        "# Determinar el nombre de cada empleado junto con la diferencia de grado salarial existente con su jefe\n",
        "#(grado del jefe – grado del empleado)\n",
        "#\n",
        "%%sql\n",
        "\n",
        "\n",
        "SELECT\n",
        "FROM ..."
      ],
      "metadata": {
        "id": "AV6CdA6LpzoI",
        "colab": {
          "base_uri": "https://localhost:8080/"
        },
        "outputId": "fa71da43-188a-437a-93e8-68ea4d21a806"
      },
      "execution_count": null,
      "outputs": [
        {
          "output_type": "stream",
          "name": "stdout",
          "text": [
            " * sqlite://\n",
            "(sqlite3.OperationalError) near \"FROM\": syntax error\n",
            "[SQL: SELECT\n",
            "FROM ...]\n",
            "(Background on this error at: https://sqlalche.me/e/20/e3q8)\n"
          ]
        }
      ]
    },
    {
      "cell_type": "markdown",
      "source": [
        "#### Solución:\n",
        "\n",
        "Puedes acudir a ella en caso de bloqueo."
      ],
      "metadata": {
        "id": "Fr3JnzQT0lVj"
      }
    },
    {
      "cell_type": "code",
      "source": [
        "%%sql\n",
        "\n",
        "SELECT\n",
        "  e.ename AS emp_name,\n",
        "  ms.grade - s.grade AS diferencia\n",
        "FROM EMP E\n",
        "JOIN SALGRADE S on e.sal BETWEEN s.losal AND s.hisal\n",
        "JOIN EMP M ON e.mgr = m.empno\n",
        "JOIN SALGRADE MS ON m.sal BETWEEN ms.losal AND ms.hisal;"
      ],
      "metadata": {
        "id": "dpFqPMcQEls0",
        "colab": {
          "base_uri": "https://localhost:8080/"
        },
        "outputId": "938fb372-9497-4bd0-ef6b-b27f341e68f0"
      },
      "execution_count": null,
      "outputs": [
        {
          "output_type": "stream",
          "name": "stdout",
          "text": [
            " * sqlite://\n",
            "Done.\n"
          ]
        },
        {
          "output_type": "execute_result",
          "data": {
            "text/plain": [
              "[('SMITH', 2),\n",
              " ('ALLEN', 1),\n",
              " ('WARD', 2),\n",
              " ('JONES', 1),\n",
              " ('MARTIN', 2),\n",
              " ('BLAKE', 1),\n",
              " ('CLARK', 2),\n",
              " ('SCOTT', 0),\n",
              " ('TURNER', 1),\n",
              " ('ADAMS', 2),\n",
              " ('JAMES', 2),\n",
              " ('FORD', 0),\n",
              " ('MILLER', 1)]"
            ],
            "text/html": [
              "<table>\n",
              "    <thead>\n",
              "        <tr>\n",
              "            <th>emp_name</th>\n",
              "            <th>diferencia</th>\n",
              "        </tr>\n",
              "    </thead>\n",
              "    <tbody>\n",
              "        <tr>\n",
              "            <td>SMITH</td>\n",
              "            <td>2</td>\n",
              "        </tr>\n",
              "        <tr>\n",
              "            <td>ALLEN</td>\n",
              "            <td>1</td>\n",
              "        </tr>\n",
              "        <tr>\n",
              "            <td>WARD</td>\n",
              "            <td>2</td>\n",
              "        </tr>\n",
              "        <tr>\n",
              "            <td>JONES</td>\n",
              "            <td>1</td>\n",
              "        </tr>\n",
              "        <tr>\n",
              "            <td>MARTIN</td>\n",
              "            <td>2</td>\n",
              "        </tr>\n",
              "        <tr>\n",
              "            <td>BLAKE</td>\n",
              "            <td>1</td>\n",
              "        </tr>\n",
              "        <tr>\n",
              "            <td>CLARK</td>\n",
              "            <td>2</td>\n",
              "        </tr>\n",
              "        <tr>\n",
              "            <td>SCOTT</td>\n",
              "            <td>0</td>\n",
              "        </tr>\n",
              "        <tr>\n",
              "            <td>TURNER</td>\n",
              "            <td>1</td>\n",
              "        </tr>\n",
              "        <tr>\n",
              "            <td>ADAMS</td>\n",
              "            <td>2</td>\n",
              "        </tr>\n",
              "        <tr>\n",
              "            <td>JAMES</td>\n",
              "            <td>2</td>\n",
              "        </tr>\n",
              "        <tr>\n",
              "            <td>FORD</td>\n",
              "            <td>0</td>\n",
              "        </tr>\n",
              "        <tr>\n",
              "            <td>MILLER</td>\n",
              "            <td>1</td>\n",
              "        </tr>\n",
              "    </tbody>\n",
              "</table>"
            ]
          },
          "metadata": {},
          "execution_count": 11
        }
      ]
    },
    {
      "cell_type": "markdown",
      "source": [
        "### **4) Seleccionar los números, nombres de los jefes junto con el nombre del departamento donde trabajan.**\n",
        "\n",
        "![image.png](data:image/png;base64,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)"
      ],
      "metadata": {
        "id": "LUk7WFpio3kn"
      }
    },
    {
      "cell_type": "code",
      "metadata": {
        "id": "4q6YJQOvof-f",
        "colab": {
          "base_uri": "https://localhost:8080/"
        },
        "outputId": "a8fae5cf-000b-494e-a535-631ca63ce7c6"
      },
      "source": [
        "# Consulta\n",
        "# Seleccionar los números, nombres de los jefes junto con el nombre del departamento donde trabajan.\n",
        "#\n",
        "%%sql\n",
        "\n",
        "\n",
        "SELECT\n",
        "FROM ..."
      ],
      "execution_count": null,
      "outputs": [
        {
          "output_type": "stream",
          "name": "stdout",
          "text": [
            " * sqlite://\n",
            "(sqlite3.OperationalError) near \"FROM\": syntax error\n",
            "[SQL: SELECT\n",
            "FROM ...]\n",
            "(Background on this error at: https://sqlalche.me/e/20/e3q8)\n"
          ]
        }
      ]
    },
    {
      "cell_type": "markdown",
      "source": [
        "#### Solución:\n",
        "\n",
        "Puedes acudir a ella en caso de bloqueo."
      ],
      "metadata": {
        "id": "xnSM712V0mGR"
      }
    },
    {
      "cell_type": "code",
      "source": [
        "%%sql\n",
        "\n",
        "SELECT DISTINCT\n",
        "  E.MGR AS NUMERO_JEFE,\n",
        "  M.ENAME AS NOMBRE_JEFE,\n",
        "  D.DNAME AS NOMBRE_DEPARTAMENTO\n",
        "FROM EMP E\n",
        "JOIN EMP M ON E.MGR = M.EMPNO\n",
        "JOIN DEPT D ON E.DEPTNO = D.DEPTNO;"
      ],
      "metadata": {
        "id": "F8zWFOXs57qq",
        "colab": {
          "base_uri": "https://localhost:8080/"
        },
        "outputId": "dc15d1a6-6b40-47a8-b89f-cdaf4c4b7b86"
      },
      "execution_count": null,
      "outputs": [
        {
          "output_type": "stream",
          "name": "stdout",
          "text": [
            " * sqlite://\n",
            "Done.\n"
          ]
        },
        {
          "output_type": "execute_result",
          "data": {
            "text/plain": [
              "[(7902, 'FORD', 'RESEARCH'),\n",
              " (7698, 'BLAKE', 'SALES'),\n",
              " (7839, 'KING', 'RESEARCH'),\n",
              " (7839, 'KING', 'SALES'),\n",
              " (7839, 'KING', 'ACCOUNTING'),\n",
              " (7566, 'JONES', 'RESEARCH'),\n",
              " (7788, 'SCOTT', 'RESEARCH'),\n",
              " (7782, 'CLARK', 'ACCOUNTING')]"
            ],
            "text/html": [
              "<table>\n",
              "    <thead>\n",
              "        <tr>\n",
              "            <th>NUMERO_JEFE</th>\n",
              "            <th>NOMBRE_JEFE</th>\n",
              "            <th>NOMBRE_DEPARTAMENTO</th>\n",
              "        </tr>\n",
              "    </thead>\n",
              "    <tbody>\n",
              "        <tr>\n",
              "            <td>7902</td>\n",
              "            <td>FORD</td>\n",
              "            <td>RESEARCH</td>\n",
              "        </tr>\n",
              "        <tr>\n",
              "            <td>7698</td>\n",
              "            <td>BLAKE</td>\n",
              "            <td>SALES</td>\n",
              "        </tr>\n",
              "        <tr>\n",
              "            <td>7839</td>\n",
              "            <td>KING</td>\n",
              "            <td>RESEARCH</td>\n",
              "        </tr>\n",
              "        <tr>\n",
              "            <td>7839</td>\n",
              "            <td>KING</td>\n",
              "            <td>SALES</td>\n",
              "        </tr>\n",
              "        <tr>\n",
              "            <td>7839</td>\n",
              "            <td>KING</td>\n",
              "            <td>ACCOUNTING</td>\n",
              "        </tr>\n",
              "        <tr>\n",
              "            <td>7566</td>\n",
              "            <td>JONES</td>\n",
              "            <td>RESEARCH</td>\n",
              "        </tr>\n",
              "        <tr>\n",
              "            <td>7788</td>\n",
              "            <td>SCOTT</td>\n",
              "            <td>RESEARCH</td>\n",
              "        </tr>\n",
              "        <tr>\n",
              "            <td>7782</td>\n",
              "            <td>CLARK</td>\n",
              "            <td>ACCOUNTING</td>\n",
              "        </tr>\n",
              "    </tbody>\n",
              "</table>"
            ]
          },
          "metadata": {},
          "execution_count": 13
        }
      ]
    },
    {
      "cell_type": "markdown",
      "source": [
        "## 1.4 Consultas con funciones de agregación"
      ],
      "metadata": {
        "id": "iP7NZT0RWrxi"
      }
    },
    {
      "cell_type": "markdown",
      "source": [
        "Las funciones de agregación en SQL son funciones que realizan cálculos en un conjunto de valores y devuelven un solo valor resumido. Estas funciones se aplican comúnmente a columnas (col) numéricas.\n",
        "\n",
        "* `SUM(*col*)`: Esta función se utiliza para sumar los valores en una columna numérica.\n",
        "\n",
        "* `AVG(col)`: Calcula el promedio de los valores en una columna numérica.\n",
        "*` COUNT(col)`: Esta función cuenta el número de filas o elementos en una columna o conjunto de resultados. Puede utilizarse con \"*\"\" para contar todas las filas o con una columna específica para contar las filas que contienen valores no nulos.\n",
        "*`MAX(col)`: Encuentra el valor máximo en una columna numérica.\n",
        "*`MIN(col)`: Encuentra el valor mínimo en una columna numérica.\n",
        "*`COUNT(DISTINCT(col))`: Cuenta los valores únicos en una columna.\n",
        "* `SUM(DISTINCT(col))`: Realiza una suma de valores únicos en una columna.\n",
        "\n",
        "La cláusula `\"GROUP BY\"` en SQL se utiliza para agrupar filas de una tabla en función de los valores de una o más columnas. Esta cláusula permite realizar operaciones de agregación, como SUM, AVG, COUNT, MAX o MIN, en conjuntos de filas que comparten el mismo valor en la(s) columna(s) especificada(s) en el \"GROUP BY\".\n",
        "\n",
        "Sintaxis:\n",
        "\n",
        "```\n",
        "SELECT columna1, columna2, ...\n",
        "FROM tabla\n",
        "GROUP BY columna1, columna2, ...;\n",
        "```\n",
        "Ej. Cantidad de empleados por cargo. Se necesita agrupar por cargo del empleado.\n",
        "\n",
        "```\n",
        "SELECT job, count(*)\n",
        "FROM emp\n",
        "GROUP BY job;\n",
        "```\n"
      ],
      "metadata": {
        "id": "vBuaqZaqXWpJ"
      }
    },
    {
      "cell_type": "markdown",
      "source": [
        "\n",
        "\n",
        "---\n",
        "\n"
      ],
      "metadata": {
        "id": "kyhUgScVadiG"
      }
    },
    {
      "cell_type": "markdown",
      "source": [
        "### **1) Consultar la cantidad de empleados.**\n",
        "\n",
        "**Tip**: se puede utilizar `SELECT COUNT(*)` para consultar la cantidad de tuplas de una tabla.\n",
        "\n",
        "El resultado esperado es:\n",
        "\n",
        "![image.png](data:image/png;base64,iVBORw0KGgoAAAANSUhEUgAAAFUAAAAuCAYAAABZEFVYAAAAAXNSR0IArs4c6QAAAARnQU1BAACxjwv8YQUAAAAJcEhZcwAADsMAAA7DAcdvqGQAAAQNSURBVGhD7Zq/ayJBFMe/d51FQAJ3kEIPAkLSaKlYpMuZv0BsrBasRPMfRP+DKKmErWzEvyBilyJoGRsPBOFMETghCClS3r35se7qmo27Olyi8wHRnbzdmXznzbw3M/sllUr9hWarfJXfmi2iRVWAFlUBWlQFaFEVEDD6Z3FlZhCVV4zXhwaK9b68snDb4WWAxmUNtqVlM0HHqKItS4EkytcFxA9eMTCLqN3bz5p0DVRbwsptRyWlGxQSIfl3N+J+eR/s9vD7Du9gVGQr0mXcGHFMF+p7H/+eyipaFooIJQowK1l5Rbxhh4M4CuYNyml5HYDo+RV1xYbkLqgjSOAeCcrbaiJ/TM7xfESdJ9t338PohepLlanr1senqNS72TiYDzDPNAxDfLoT8efImRTLtsNjx7YzGhhQI6kLEP+5iSxRZJwduES/XpzX2Xh45WXO9nIvTXGfx5B54H0NRWrbiNoVSoQxNITH05PQG9P95AgXOXa9Hv5ETacQo95lQ7jpHOqtKjqPbFjJxjjsGtZQ4vRRu+zQv0LMOyAgm9w/b98Mv3kBm1oKiI1J+C6QMe2R0P8z5d/Rk/WdwJ+o0bDw0nHPMScK2hXHvCPtMHty2ZElhtQBwaG5l48M8vasv2E5x9W+NqrkwTwmkIMYzrm9NRROED5au65A0T90+EP++k+0bsU0QsMyX/LfluT3b/z79Vn46VochLFuTf5EnczAZ6gVvZatmLgpyVIPOzbUTiPyZ2BoGmkPeB2hxBliovDD4E9UGQ2Fhzjkyl0hQ0KxDOCKTegOu8JCQGFpjMwIXkbo8WDwGzMevKI4W3imiM7AFE/cbgkKLk0ehCi4cLuPg8/hTx7SE5Gep1CUhvDPuUycKNKLedX2JEQyth0FAyEU5ZRtK1eVEZZY/cyhI3ddpF9vymzCH1bw8TWNzYPa+/ifU/lELiO4A56yOCM9T1PcdjwjmKcsAp4CWWmZA9czXdid7As/wSd3ykfWquD8Fnu7n8piQCayvIpzY63OFldx3gSK/rtA+xfz1ShOPZP6JFLHlHzR6LpVukzdFWRa5pnUy0UCX8rKonXQxykK2F9PVYgWVQFaVAVoURWgRVWAFlUBWlQFbCAq23Eyxa7UG7AlnnkdcCP5ExNQVCaoteP0Buky8h4nmruMb1G597EtvNnEvQM1hx38xTB9FFt6+0YATx2hw04lK0N57SZZyiM2buL2WRbsGb5F7ddrnltl7LjkIjHFnevFiv1hg0C1mmwlA3S99yh3ne2Kys6qYB2p7C9bFTV7El04k+LvM/HXfLbwms4nYoP9VPHCGDyOGfhRxPFo6YW03Wfrc6pG7/wrQXuqArSoCtCiKkCLqgAtqgK0qArQoipAi7p1gH8/W5TXf3ZzEAAAAABJRU5ErkJggg==)"
      ],
      "metadata": {
        "id": "vh4g5_OzW96c"
      }
    },
    {
      "cell_type": "code",
      "source": [
        "# Consulta\n",
        "# Consultar la cantidad de empleados.\n",
        "#\n",
        "%%sql\n",
        "\n",
        "\n",
        "SELECT count(*)\n",
        "FROM ..."
      ],
      "metadata": {
        "id": "boelkUHVXH02",
        "colab": {
          "base_uri": "https://localhost:8080/"
        },
        "outputId": "b911d480-e6d3-49a8-d403-2f2f7c18f04f"
      },
      "execution_count": null,
      "outputs": [
        {
          "output_type": "stream",
          "name": "stdout",
          "text": [
            " * sqlite://\n",
            "(sqlite3.OperationalError) near \".\": syntax error\n",
            "[SQL: SELECT count(*)\n",
            "FROM ...]\n",
            "(Background on this error at: https://sqlalche.me/e/20/e3q8)\n"
          ]
        }
      ]
    },
    {
      "cell_type": "markdown",
      "source": [
        "#### Solución:\n",
        "\n",
        "Puedes acudir a ella en caso de bloqueo."
      ],
      "metadata": {
        "id": "TNuy9C0O8Jph"
      }
    },
    {
      "cell_type": "code",
      "source": [
        "%%sql\n",
        "\n",
        "SELECT\n",
        "  COUNT(*)\n",
        "FROM EMP;"
      ],
      "metadata": {
        "id": "MD6vB3he8Jpi",
        "colab": {
          "base_uri": "https://localhost:8080/"
        },
        "outputId": "70180408-df94-44a1-e37c-bdaf1cd39cf4"
      },
      "execution_count": null,
      "outputs": [
        {
          "output_type": "stream",
          "name": "stdout",
          "text": [
            " * sqlite://\n",
            "Done.\n"
          ]
        },
        {
          "output_type": "execute_result",
          "data": {
            "text/plain": [
              "[(14,)]"
            ],
            "text/html": [
              "<table>\n",
              "    <thead>\n",
              "        <tr>\n",
              "            <th>COUNT(*)</th>\n",
              "        </tr>\n",
              "    </thead>\n",
              "    <tbody>\n",
              "        <tr>\n",
              "            <td>14</td>\n",
              "        </tr>\n",
              "    </tbody>\n",
              "</table>"
            ]
          },
          "metadata": {},
          "execution_count": 15
        }
      ]
    },
    {
      "cell_type": "markdown",
      "source": [
        "### **2) Consultar el nombre del departamento con la cantidad de empleados existentes.**\n",
        "\n",
        "El resultado esperado es:\n",
        "\n",
        "![image.png](data:image/png;base64,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)"
      ],
      "metadata": {
        "id": "ryTx1GrQa8A1"
      }
    },
    {
      "cell_type": "code",
      "source": [
        "# Consulta\n",
        "# Consultar el nombre del departamento con la cantidad de empleados existentes\n",
        "#\n",
        "%%sql\n",
        "\n",
        "SELECT dname, ...\n",
        "FROM ...\n",
        "GROUP BY ..."
      ],
      "metadata": {
        "id": "UQUjXNp2bBSB",
        "colab": {
          "base_uri": "https://localhost:8080/"
        },
        "outputId": "16663d7b-62df-4a25-d2e5-d0b355bb67dd"
      },
      "execution_count": null,
      "outputs": [
        {
          "output_type": "stream",
          "name": "stdout",
          "text": [
            " * sqlite://\n",
            "(sqlite3.OperationalError) near \".\": syntax error\n",
            "[SQL: SELECT dname, ...\n",
            "FROM ...\n",
            "GROUP BY ...]\n",
            "(Background on this error at: https://sqlalche.me/e/20/e3q8)\n"
          ]
        }
      ]
    },
    {
      "cell_type": "markdown",
      "source": [
        "#### Solución:\n",
        "\n",
        "Puedes acudir a ella en caso de bloqueo."
      ],
      "metadata": {
        "id": "k_0xwDDT8f1O"
      }
    },
    {
      "cell_type": "code",
      "source": [
        "%%sql\n",
        "\n",
        "SELECT\n",
        "  d.dname AS depto_name,\n",
        "  COUNT(e.empno) AS emp_num\n",
        "FROM\n",
        "  EMP e\n",
        "INNER JOIN\n",
        "  DEPT d ON e.deptno = d.deptno\n",
        "GROUP BY\n",
        "  d.dname;"
      ],
      "metadata": {
        "id": "Thje2mX48f1O",
        "colab": {
          "base_uri": "https://localhost:8080/"
        },
        "outputId": "66a11a67-e6f0-4e8e-b2df-1affd924328f"
      },
      "execution_count": null,
      "outputs": [
        {
          "output_type": "stream",
          "name": "stdout",
          "text": [
            " * sqlite://\n",
            "Done.\n"
          ]
        },
        {
          "output_type": "execute_result",
          "data": {
            "text/plain": [
              "[('ACCOUNTING', 3), ('RESEARCH', 5), ('SALES', 6)]"
            ],
            "text/html": [
              "<table>\n",
              "    <thead>\n",
              "        <tr>\n",
              "            <th>depto_name</th>\n",
              "            <th>emp_num</th>\n",
              "        </tr>\n",
              "    </thead>\n",
              "    <tbody>\n",
              "        <tr>\n",
              "            <td>ACCOUNTING</td>\n",
              "            <td>3</td>\n",
              "        </tr>\n",
              "        <tr>\n",
              "            <td>RESEARCH</td>\n",
              "            <td>5</td>\n",
              "        </tr>\n",
              "        <tr>\n",
              "            <td>SALES</td>\n",
              "            <td>6</td>\n",
              "        </tr>\n",
              "    </tbody>\n",
              "</table>"
            ]
          },
          "metadata": {},
          "execution_count": 17
        }
      ]
    },
    {
      "cell_type": "markdown",
      "source": [
        "### **3) Seleccionar el nombre del departamento con el promedio salarial ordenado de mayor a menor.**\n",
        "\n",
        "Tip: Se puede renombrar una columna de salida con un nuevo nombre, utilizando la clausula AS.\n",
        "\n",
        "Ej. `SELECT ename AS nomEmp ...`\n",
        "\n",
        "El resultado esperado es:\n",
        "\n",
        "![image.png](data:image/png;base64,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)"
      ],
      "metadata": {
        "id": "tnru2WoUm_HJ"
      }
    },
    {
      "cell_type": "code",
      "metadata": {
        "id": "-e--jpIcfGVy",
        "colab": {
          "base_uri": "https://localhost:8080/"
        },
        "outputId": "d1af0529-cf96-4817-8f7c-c5222a00ad55"
      },
      "source": [
        "# Consulta\n",
        "# Seleccionar el nombre del departamento con el promedio salarial ordenado de mayor a menor.\n",
        "#\n",
        "%%sql\n",
        "\n",
        "SELECT ...\n",
        "FROM ...\n",
        "GROUP BY ...\n",
        "ORDER BY;"
      ],
      "execution_count": null,
      "outputs": [
        {
          "output_type": "stream",
          "name": "stdout",
          "text": [
            " * sqlite://\n",
            "(sqlite3.OperationalError) near \".\": syntax error\n",
            "[SQL: SELECT ...\n",
            "FROM ...\n",
            "GROUP BY ...\n",
            "ORDER BY;]\n",
            "(Background on this error at: https://sqlalche.me/e/20/e3q8)\n"
          ]
        }
      ]
    },
    {
      "cell_type": "markdown",
      "source": [
        "#### Solución:\n",
        "\n",
        "Puedes acudir a ella en caso de bloqueo."
      ],
      "metadata": {
        "id": "ayUZQUc9-wqB"
      }
    },
    {
      "cell_type": "code",
      "source": [
        "%%sql\n",
        "\n",
        "SELECT\n",
        "  d.dname AS depto_name,\n",
        "  AVG(e.sal) AS emp_sal_prom\n",
        "FROM\n",
        "  EMP e\n",
        "INNER JOIN\n",
        "  DEPT d ON e.deptno = d.deptno\n",
        "GROUP BY\n",
        "  d.dname\n",
        "ORDER BY\n",
        "  emp_sal_prom DESC;"
      ],
      "metadata": {
        "id": "hpVF9Dh4-wqC",
        "colab": {
          "base_uri": "https://localhost:8080/"
        },
        "outputId": "4cd9eb92-920f-443a-eeb9-5f2fb522ca36"
      },
      "execution_count": null,
      "outputs": [
        {
          "output_type": "stream",
          "name": "stdout",
          "text": [
            " * sqlite://\n",
            "Done.\n"
          ]
        },
        {
          "output_type": "execute_result",
          "data": {
            "text/plain": [
              "[('ACCOUNTING', 2916.6666666666665),\n",
              " ('RESEARCH', 2175.0),\n",
              " ('SALES', 1566.6666666666667)]"
            ],
            "text/html": [
              "<table>\n",
              "    <thead>\n",
              "        <tr>\n",
              "            <th>depto_name</th>\n",
              "            <th>emp_sal_prom</th>\n",
              "        </tr>\n",
              "    </thead>\n",
              "    <tbody>\n",
              "        <tr>\n",
              "            <td>ACCOUNTING</td>\n",
              "            <td>2916.6666666666665</td>\n",
              "        </tr>\n",
              "        <tr>\n",
              "            <td>RESEARCH</td>\n",
              "            <td>2175.0</td>\n",
              "        </tr>\n",
              "        <tr>\n",
              "            <td>SALES</td>\n",
              "            <td>1566.6666666666667</td>\n",
              "        </tr>\n",
              "    </tbody>\n",
              "</table>"
            ]
          },
          "metadata": {},
          "execution_count": 19
        }
      ]
    },
    {
      "cell_type": "markdown",
      "source": [
        "### **4) Para cada departamento mostrar: código, nombre y el salario más alto. Ordenado de mayor a menor salario**\n",
        "\n",
        "Tip: Recuerda colocar en el group by, todos los atributos por los que se quiere agrupar (que se coloquen en el select).\n",
        "\n",
        "El resultado esperado es:\n",
        "\n",
        "![image.png](data:image/png;base64,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)"
      ],
      "metadata": {
        "id": "HlyqXcB23g_5"
      }
    },
    {
      "cell_type": "code",
      "source": [
        "# Consulta\n",
        "# Para cada departamento mostrar: código, nombre y el salario más alto.\n",
        "#\n",
        "%%sql\n",
        "\n",
        "SELECT ...\n",
        "FROM dept natural inner join emp\n",
        "order by ...;"
      ],
      "metadata": {
        "id": "lhFB8elX3t9r",
        "colab": {
          "base_uri": "https://localhost:8080/"
        },
        "outputId": "329131ef-a818-44b9-f97a-ee98ef0b6ac8"
      },
      "execution_count": null,
      "outputs": [
        {
          "output_type": "stream",
          "name": "stdout",
          "text": [
            " * sqlite://\n",
            "(sqlite3.OperationalError) near \".\": syntax error\n",
            "[SQL: SELECT ...\n",
            "FROM dept natural inner join emp\n",
            "order by ...;]\n",
            "(Background on this error at: https://sqlalche.me/e/20/e3q8)\n"
          ]
        }
      ]
    },
    {
      "cell_type": "markdown",
      "source": [
        "#### Solución:\n",
        "\n",
        "Puedes acudir a ella en caso de bloqueo."
      ],
      "metadata": {
        "id": "Nt7jPyx4_zJI"
      }
    },
    {
      "cell_type": "code",
      "source": [
        "%%sql\n",
        "\n",
        "SELECT\n",
        "  d.deptno AS depto_code,\n",
        "  d.dname AS depto_name,\n",
        "  MAX(e.sal) AS emp_max_sal\n",
        "FROM\n",
        "  EMP e\n",
        "INNER JOIN\n",
        "  DEPT d ON e.deptno = d.deptno\n",
        "GROUP BY\n",
        "  d.deptno, d.dname\n",
        "ORDER BY\n",
        "  emp_max_sal DESC;"
      ],
      "metadata": {
        "id": "FO-EMLJk_zJJ",
        "colab": {
          "base_uri": "https://localhost:8080/"
        },
        "outputId": "e6b98639-1616-4f63-c401-ab27001dd256"
      },
      "execution_count": null,
      "outputs": [
        {
          "output_type": "stream",
          "name": "stdout",
          "text": [
            " * sqlite://\n",
            "Done.\n"
          ]
        },
        {
          "output_type": "execute_result",
          "data": {
            "text/plain": [
              "[(10, 'ACCOUNTING', 5000), (20, 'RESEARCH', 3000), (30, 'SALES', 2850)]"
            ],
            "text/html": [
              "<table>\n",
              "    <thead>\n",
              "        <tr>\n",
              "            <th>depto_code</th>\n",
              "            <th>depto_name</th>\n",
              "            <th>emp_max_sal</th>\n",
              "        </tr>\n",
              "    </thead>\n",
              "    <tbody>\n",
              "        <tr>\n",
              "            <td>10</td>\n",
              "            <td>ACCOUNTING</td>\n",
              "            <td>5000</td>\n",
              "        </tr>\n",
              "        <tr>\n",
              "            <td>20</td>\n",
              "            <td>RESEARCH</td>\n",
              "            <td>3000</td>\n",
              "        </tr>\n",
              "        <tr>\n",
              "            <td>30</td>\n",
              "            <td>SALES</td>\n",
              "            <td>2850</td>\n",
              "        </tr>\n",
              "    </tbody>\n",
              "</table>"
            ]
          },
          "metadata": {},
          "execution_count": 21
        }
      ]
    },
    {
      "cell_type": "markdown",
      "source": [
        "### **5) Mostrar los números y nombres de los departamentos que tienen al menos 5 empleados.**\n",
        "\n",
        "Tip: la cláusula \"`HAVING`\" se utiliza para establecer condiciones sobre grupos de filas generados por la cláusula \"`GROUP BY`\".\n",
        "\n",
        "Sintaxis:\n",
        "\n",
        "```\n",
        "SELECT columna1, columna2, ...\n",
        "FROM tabla\n",
        "GROUP BY columna1, columna2, ...\n",
        "HAVING condición;\n",
        "```\n",
        "\n",
        "El resultado esperado es:\n",
        "\n",
        "![image.png](data:image/png;base64,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)"
      ],
      "metadata": {
        "id": "WDYthz4ZBX-8"
      }
    },
    {
      "cell_type": "code",
      "source": [
        "# Consulta\n",
        "# Mostrar los números y nombres de los departamentos que tienen al menos 5 empleados.\n",
        "#\n",
        "%%sql\n",
        "\n",
        "SELECT ...\n",
        "FROM ...\n",
        "GROUP BY ...\n",
        "HAVING ...;"
      ],
      "metadata": {
        "id": "zVEETl4iCEWk",
        "colab": {
          "base_uri": "https://localhost:8080/"
        },
        "outputId": "ec13d999-e858-44bd-b149-f7c11fb2cce4"
      },
      "execution_count": null,
      "outputs": [
        {
          "output_type": "stream",
          "name": "stdout",
          "text": [
            " * sqlite://\n",
            "(sqlite3.OperationalError) near \".\": syntax error\n",
            "[SQL: SELECT ...\n",
            "FROM ...\n",
            "GROUP BY ...\n",
            "HAVING ...;]\n",
            "(Background on this error at: https://sqlalche.me/e/20/e3q8)\n"
          ]
        }
      ]
    },
    {
      "cell_type": "markdown",
      "source": [
        "#### Solución:\n",
        "\n",
        "Puedes acudir a ella en caso de bloqueo."
      ],
      "metadata": {
        "id": "D7MQdvGLBWKs"
      }
    },
    {
      "cell_type": "code",
      "source": [
        "%%sql\n",
        "\n",
        "SELECT\n",
        "  d.deptno AS depto_code,\n",
        "  d.dname AS depto_name\n",
        "FROM\n",
        "  EMP e\n",
        "INNER JOIN\n",
        "  DEPT d ON e.deptno = d.deptno\n",
        "GROUP BY\n",
        "  d.deptno , d.dname\n",
        "HAVING\n",
        "  COUNT(e.empno) >= 5;"
      ],
      "metadata": {
        "id": "1sYl_7wmBWKt",
        "colab": {
          "base_uri": "https://localhost:8080/",
          "height": 116
        },
        "outputId": "a6b30bca-5626-47d1-a0de-e88746a2910b"
      },
      "execution_count": null,
      "outputs": [
        {
          "output_type": "stream",
          "name": "stdout",
          "text": [
            " * sqlite://\n",
            "Done.\n"
          ]
        },
        {
          "output_type": "execute_result",
          "data": {
            "text/plain": [
              "[(20, 'RESEARCH'), (30, 'SALES')]"
            ],
            "text/html": [
              "<table>\n",
              "    <thead>\n",
              "        <tr>\n",
              "            <th>depto_code</th>\n",
              "            <th>depto_name</th>\n",
              "        </tr>\n",
              "    </thead>\n",
              "    <tbody>\n",
              "        <tr>\n",
              "            <td>20</td>\n",
              "            <td>RESEARCH</td>\n",
              "        </tr>\n",
              "        <tr>\n",
              "            <td>30</td>\n",
              "            <td>SALES</td>\n",
              "        </tr>\n",
              "    </tbody>\n",
              "</table>"
            ]
          },
          "metadata": {},
          "execution_count": 23
        }
      ]
    },
    {
      "cell_type": "markdown",
      "source": [
        "### **6) Determinar los números y nombres de los empleados que ganan más dinero que su respectivo jefe**\n",
        "\n",
        "Tip: se puede hacer join de una tabla consigo misma. Para eso es muy útil definir alias de la tabla. En este caso se podrían utilizan alias \"e1\" y \"e2\" para referirse a dos instancias diferentes de la tabla \"EMP\".\n",
        "\n",
        "El resultado esperado es:\n",
        "\n",
        "![image.png](data:image/png;base64,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)"
      ],
      "metadata": {
        "id": "abVBbKsZCDdK"
      }
    },
    {
      "cell_type": "code",
      "source": [
        "# Consulta\n",
        "# Determinar los números y nombres de los empleados que ganan más dinero que su respectivo jefe\n",
        "#\n",
        "%%sql\n",
        "\n",
        "SELECT ...\n",
        "FROM emp e1 inner join emp e2 on ...;"
      ],
      "metadata": {
        "id": "KKwNYt1yCjtW",
        "colab": {
          "base_uri": "https://localhost:8080/"
        },
        "outputId": "0d1cb143-d92c-4efa-963a-70d12ac077fc"
      },
      "execution_count": null,
      "outputs": [
        {
          "output_type": "stream",
          "name": "stdout",
          "text": [
            " * sqlite://\n",
            "(sqlite3.OperationalError) near \".\": syntax error\n",
            "[SQL: SELECT ...\n",
            "FROM emp e1 inner join emp e2 on ...;]\n",
            "(Background on this error at: https://sqlalche.me/e/20/e3q8)\n"
          ]
        }
      ]
    },
    {
      "cell_type": "markdown",
      "source": [
        "#### Solución:\n",
        "\n",
        "Puedes acudir a ella en caso de bloqueo."
      ],
      "metadata": {
        "id": "mH6e7rT_B31j"
      }
    },
    {
      "cell_type": "code",
      "source": [
        "%%sql\n",
        "\n",
        "SELECT\n",
        "  e.empno,\n",
        "  e.ename\n",
        "FROM\n",
        "  EMP e\n",
        "INNER JOIN\n",
        "  EMP m ON e.mgr = m.empno\n",
        "WHERE\n",
        "  e.sal > m.sal;"
      ],
      "metadata": {
        "id": "Sq8uN2YZB31k",
        "colab": {
          "base_uri": "https://localhost:8080/",
          "height": 116
        },
        "outputId": "9a2436a8-d9dc-408a-a3be-280fe99ef700"
      },
      "execution_count": null,
      "outputs": [
        {
          "output_type": "stream",
          "name": "stdout",
          "text": [
            " * sqlite://\n",
            "Done.\n"
          ]
        },
        {
          "output_type": "execute_result",
          "data": {
            "text/plain": [
              "[(7788, 'SCOTT'), (7902, 'FORD')]"
            ],
            "text/html": [
              "<table>\n",
              "    <thead>\n",
              "        <tr>\n",
              "            <th>EMPNO</th>\n",
              "            <th>ENAME</th>\n",
              "        </tr>\n",
              "    </thead>\n",
              "    <tbody>\n",
              "        <tr>\n",
              "            <td>7788</td>\n",
              "            <td>SCOTT</td>\n",
              "        </tr>\n",
              "        <tr>\n",
              "            <td>7902</td>\n",
              "            <td>FORD</td>\n",
              "        </tr>\n",
              "    </tbody>\n",
              "</table>"
            ]
          },
          "metadata": {},
          "execution_count": 30
        }
      ]
    },
    {
      "cell_type": "markdown",
      "source": [
        "### 7) Determinar los números y nombres de los departamentos en donde los empleados ganan más de 800.\n",
        "\n",
        "El resultado esperado es:\n",
        "\n",
        "![image.png](data:image/png;base64,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)"
      ],
      "metadata": {
        "id": "A9aJPDO4Ciqo"
      }
    },
    {
      "cell_type": "code",
      "source": [
        "# Consulta\n",
        "# Determinar los números y nombres de los departamentos en donde la suma de los salarios de sus empleados ganan más de 8.000 y menos de 10.000\n",
        "#\n",
        "%%sql\n",
        "\n",
        "SELECT ...\n",
        "FROM ...\n",
        "WHERE  ( ....)"
      ],
      "metadata": {
        "id": "isXDg2QoHofF",
        "colab": {
          "base_uri": "https://localhost:8080/"
        },
        "outputId": "27f861d8-a383-4ae4-e56d-871375126ac5"
      },
      "execution_count": null,
      "outputs": [
        {
          "output_type": "stream",
          "name": "stdout",
          "text": [
            " * sqlite://\n",
            "(sqlite3.OperationalError) near \".\": syntax error\n",
            "[SQL: SELECT ...\n",
            "FROM ...\n",
            "WHERE  ( ....)]\n",
            "(Background on this error at: https://sqlalche.me/e/20/e3q8)\n"
          ]
        }
      ]
    },
    {
      "cell_type": "markdown",
      "source": [
        "#### Solución:\n",
        "\n",
        "Puedes acudir a ella en caso de bloqueo."
      ],
      "metadata": {
        "id": "7KS4e329C8e6"
      }
    },
    {
      "cell_type": "code",
      "source": [
        "%%sql\n",
        "\n",
        "SELECT\n",
        "  d.deptno,\n",
        "  d.dname\n",
        "FROM\n",
        "  EMP e INNER JOIN DEPT d ON e.deptno = d.deptno\n",
        "GROUP BY\n",
        "  d.deptno,\n",
        "  d.dname\n",
        "HAVING\n",
        "    sum(e.sal) > 8000 and sum(e.sal) <10000;"
      ],
      "metadata": {
        "id": "rF_NebZaC8e6",
        "colab": {
          "base_uri": "https://localhost:8080/",
          "height": 116
        },
        "outputId": "8062b846-1df3-44d1-9fe3-aeb261e157b4"
      },
      "execution_count": null,
      "outputs": [
        {
          "output_type": "stream",
          "name": "stdout",
          "text": [
            " * sqlite://\n",
            "Done.\n"
          ]
        },
        {
          "output_type": "execute_result",
          "data": {
            "text/plain": [
              "[(10, 'ACCOUNTING'), (30, 'SALES')]"
            ],
            "text/html": [
              "<table>\n",
              "    <thead>\n",
              "        <tr>\n",
              "            <th>DEPTNO</th>\n",
              "            <th>DNAME</th>\n",
              "        </tr>\n",
              "    </thead>\n",
              "    <tbody>\n",
              "        <tr>\n",
              "            <td>10</td>\n",
              "            <td>ACCOUNTING</td>\n",
              "        </tr>\n",
              "        <tr>\n",
              "            <td>30</td>\n",
              "            <td>SALES</td>\n",
              "        </tr>\n",
              "    </tbody>\n",
              "</table>"
            ]
          },
          "metadata": {},
          "execution_count": 28
        }
      ]
    },
    {
      "cell_type": "markdown",
      "source": [
        "### **8) Determinar los números y nombres de los departamentos en donde todos los empleados ganan mas de 950 y existe al menos un jefe que gana más de 1350.**\n",
        "\n",
        "El resultado esperado es:\n",
        "\n",
        "![image.png](data:image/png;base64,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)"
      ],
      "metadata": {
        "id": "PIF8I4RBJxsX"
      }
    },
    {
      "cell_type": "code",
      "source": [
        "# Consulta\n",
        "# Determinar los números y nombres de los departamentos en donde todos los empleados ganan más de 950\n",
        "# y existe al menos un jefe que gana más de 1350\n",
        "#\n",
        "%%sql\n",
        "\n",
        "SELECT\n",
        "FROM ...\n",
        "WHERE not exists ( ....)"
      ],
      "metadata": {
        "id": "TyTuL852KC-I",
        "colab": {
          "base_uri": "https://localhost:8080/"
        },
        "outputId": "1c06b4e5-ea27-449a-aa3c-9584c8380b09"
      },
      "execution_count": null,
      "outputs": [
        {
          "output_type": "stream",
          "name": "stdout",
          "text": [
            " * sqlite://\n",
            "(sqlite3.OperationalError) near \"FROM\": syntax error\n",
            "[SQL: SELECT\n",
            "FROM ...\n",
            "WHERE not exists ( ....)]\n",
            "(Background on this error at: https://sqlalche.me/e/20/e3q8)\n"
          ]
        }
      ]
    },
    {
      "cell_type": "markdown",
      "source": [
        "#### Solución:\n",
        "\n",
        "Puedes acudir a ella en caso de bloqueo."
      ],
      "metadata": {
        "id": "LeEqEmLq0uJc"
      }
    },
    {
      "cell_type": "code",
      "source": [
        "%%sql\n",
        "\n",
        "SELECT\n",
        "    d.deptno AS dept_code,\n",
        "    d.dname AS dept_name\n",
        "FROM\n",
        "    DEPT d\n",
        "WHERE\n",
        "    NOT EXISTS (\n",
        "        SELECT 1\n",
        "        FROM EMP e\n",
        "        WHERE e.deptno = d.deptno AND e.sal <= 950\n",
        "    )\n",
        "    AND EXISTS (\n",
        "        SELECT 1\n",
        "        FROM EMP m\n",
        "        WHERE m.deptno = d.deptno AND m.sal > 1350\n",
        "    );"
      ],
      "metadata": {
        "id": "v_wyEOFm0uJc",
        "colab": {
          "base_uri": "https://localhost:8080/"
        },
        "outputId": "421f1c84-e2fa-401b-a86b-acd5344b2fc7"
      },
      "execution_count": null,
      "outputs": [
        {
          "output_type": "stream",
          "name": "stderr",
          "text": [
            "UsageError: Cell magic `%%sql` not found.\n"
          ]
        }
      ]
    }
  ]
}